{
 "cells": [
  {
   "cell_type": "code",
   "execution_count": 3,
   "id": "961b7e9f",
   "metadata": {},
   "outputs": [
    {
     "data": {
      "text/html": [
       "<div>\n",
       "<style scoped>\n",
       "    .dataframe tbody tr th:only-of-type {\n",
       "        vertical-align: middle;\n",
       "    }\n",
       "\n",
       "    .dataframe tbody tr th {\n",
       "        vertical-align: top;\n",
       "    }\n",
       "\n",
       "    .dataframe thead th {\n",
       "        text-align: right;\n",
       "    }\n",
       "</style>\n",
       "<table border=\"1\" class=\"dataframe\">\n",
       "  <thead>\n",
       "    <tr style=\"text-align: right;\">\n",
       "      <th></th>\n",
       "      <th>Student_ID</th>\n",
       "      <th>Age</th>\n",
       "      <th>Gender</th>\n",
       "      <th>Academic_Level</th>\n",
       "      <th>Country</th>\n",
       "      <th>Avg_Daily_Usage_Hours</th>\n",
       "      <th>Most_Used_Platform</th>\n",
       "      <th>Affects_Academic_Performance</th>\n",
       "      <th>Sleep_Hours_Per_Night</th>\n",
       "      <th>Mental_Health_Score</th>\n",
       "      <th>Relationship_Status</th>\n",
       "      <th>Conflicts_Over_Social_Media</th>\n",
       "      <th>Addicted_Score</th>\n",
       "    </tr>\n",
       "  </thead>\n",
       "  <tbody>\n",
       "    <tr>\n",
       "      <th>0</th>\n",
       "      <td>1</td>\n",
       "      <td>19</td>\n",
       "      <td>Female</td>\n",
       "      <td>Undergraduate</td>\n",
       "      <td>Bangladesh</td>\n",
       "      <td>5.2</td>\n",
       "      <td>Instagram</td>\n",
       "      <td>Yes</td>\n",
       "      <td>6.5</td>\n",
       "      <td>6</td>\n",
       "      <td>In Relationship</td>\n",
       "      <td>3</td>\n",
       "      <td>8</td>\n",
       "    </tr>\n",
       "    <tr>\n",
       "      <th>1</th>\n",
       "      <td>2</td>\n",
       "      <td>22</td>\n",
       "      <td>Male</td>\n",
       "      <td>Graduate</td>\n",
       "      <td>India</td>\n",
       "      <td>2.1</td>\n",
       "      <td>Twitter</td>\n",
       "      <td>No</td>\n",
       "      <td>7.5</td>\n",
       "      <td>8</td>\n",
       "      <td>Single</td>\n",
       "      <td>0</td>\n",
       "      <td>3</td>\n",
       "    </tr>\n",
       "    <tr>\n",
       "      <th>2</th>\n",
       "      <td>3</td>\n",
       "      <td>20</td>\n",
       "      <td>Female</td>\n",
       "      <td>Undergraduate</td>\n",
       "      <td>USA</td>\n",
       "      <td>6.0</td>\n",
       "      <td>TikTok</td>\n",
       "      <td>Yes</td>\n",
       "      <td>5.0</td>\n",
       "      <td>5</td>\n",
       "      <td>Complicated</td>\n",
       "      <td>4</td>\n",
       "      <td>9</td>\n",
       "    </tr>\n",
       "    <tr>\n",
       "      <th>3</th>\n",
       "      <td>4</td>\n",
       "      <td>18</td>\n",
       "      <td>Male</td>\n",
       "      <td>High School</td>\n",
       "      <td>UK</td>\n",
       "      <td>3.0</td>\n",
       "      <td>YouTube</td>\n",
       "      <td>No</td>\n",
       "      <td>7.0</td>\n",
       "      <td>7</td>\n",
       "      <td>Single</td>\n",
       "      <td>1</td>\n",
       "      <td>4</td>\n",
       "    </tr>\n",
       "    <tr>\n",
       "      <th>4</th>\n",
       "      <td>5</td>\n",
       "      <td>21</td>\n",
       "      <td>Male</td>\n",
       "      <td>Graduate</td>\n",
       "      <td>Canada</td>\n",
       "      <td>4.5</td>\n",
       "      <td>Facebook</td>\n",
       "      <td>Yes</td>\n",
       "      <td>6.0</td>\n",
       "      <td>6</td>\n",
       "      <td>In Relationship</td>\n",
       "      <td>2</td>\n",
       "      <td>7</td>\n",
       "    </tr>\n",
       "  </tbody>\n",
       "</table>\n",
       "</div>"
      ],
      "text/plain": [
       "   Student_ID  Age  Gender Academic_Level     Country  Avg_Daily_Usage_Hours  \\\n",
       "0           1   19  Female  Undergraduate  Bangladesh                    5.2   \n",
       "1           2   22    Male       Graduate       India                    2.1   \n",
       "2           3   20  Female  Undergraduate         USA                    6.0   \n",
       "3           4   18    Male    High School          UK                    3.0   \n",
       "4           5   21    Male       Graduate      Canada                    4.5   \n",
       "\n",
       "  Most_Used_Platform Affects_Academic_Performance  Sleep_Hours_Per_Night  \\\n",
       "0          Instagram                          Yes                    6.5   \n",
       "1            Twitter                           No                    7.5   \n",
       "2             TikTok                          Yes                    5.0   \n",
       "3            YouTube                           No                    7.0   \n",
       "4           Facebook                          Yes                    6.0   \n",
       "\n",
       "   Mental_Health_Score Relationship_Status  Conflicts_Over_Social_Media  \\\n",
       "0                    6     In Relationship                            3   \n",
       "1                    8              Single                            0   \n",
       "2                    5         Complicated                            4   \n",
       "3                    7              Single                            1   \n",
       "4                    6     In Relationship                            2   \n",
       "\n",
       "   Addicted_Score  \n",
       "0               8  \n",
       "1               3  \n",
       "2               9  \n",
       "3               4  \n",
       "4               7  "
      ]
     },
     "execution_count": 3,
     "metadata": {},
     "output_type": "execute_result"
    }
   ],
   "source": [
    "import pandas as pd\n",
    "df = pd.read_csv(\"C:/Users/iamms/OneDrive/文档/Myfirstdashboardproject/my_data.csv\")\n",
    "df.head()\n"
   ]
  },
  {
   "cell_type": "code",
   "execution_count": 4,
   "id": "4aa13c01",
   "metadata": {},
   "outputs": [],
   "source": [
    "df.isnull().sum()\n",
    "df.dropna(inplace=True)\n",
    "df.columns = df.columns.str.strip().str.replace(' ', '_')"
   ]
  },
  {
   "cell_type": "code",
   "execution_count": null,
   "id": "d6dc6ac6",
   "metadata": {},
   "outputs": [],
   "source": []
  },
  {
   "cell_type": "code",
   "execution_count": 5,
   "id": "20e1abee",
   "metadata": {},
   "outputs": [
    {
     "data": {
      "text/plain": [
       "Gender\n",
       "Female    InstagramTikTokInstagramSnapchatInstagramTikTo...\n",
       "Male      TwitterYouTubeFacebookLinkedInTikTokSnapchatLi...\n",
       "Name: Most_Used_Platform, dtype: object"
      ]
     },
     "execution_count": 5,
     "metadata": {},
     "output_type": "execute_result"
    }
   ],
   "source": [
    "df.describe()\n",
    "df['Age'].unique()\n",
    "df.groupby('Gender')['Most_Used_Platform'].sum()\n"
   ]
  },
  {
   "cell_type": "markdown",
   "id": "dc813b4d",
   "metadata": {},
   "source": [
    "# 📈 Average Addicted Score Across Academic Levels  \n",
    "Displays a line chart showing how the average addicted score varies across academic levels."
   ]
  },
  {
   "cell_type": "code",
   "execution_count": 6,
   "id": "91042edc",
   "metadata": {},
   "outputs": [
    {
     "data": {
      "application/vnd.plotly.v1+json": {
       "config": {
        "plotlyServerURL": "https://plot.ly"
       },
       "data": [
        {
         "alignmentgroup": "True",
         "hovertemplate": "Affects_Academic_Performance=%{x}<br>Addicted_Score=%{y}<extra></extra>",
         "legendgroup": "",
         "marker": {
          "color": "#636efa"
         },
         "name": "",
         "notched": false,
         "offsetgroup": "",
         "orientation": "v",
         "showlegend": false,
         "type": "box",
         "x": [
          "Yes",
          "No",
          "Yes",
          "No",
          "Yes",
          "Yes",
          "No",
          "Yes",
          "No",
          "No",
          "Yes",
          "Yes",
          "No",
          "Yes",
          "No",
          "Yes",
          "No",
          "Yes",
          "No",
          "Yes",
          "Yes",
          "No",
          "Yes",
          "Yes",
          "No",
          "Yes",
          "No",
          "Yes",
          "No",
          "Yes",
          "No",
          "Yes",
          "Yes",
          "No",
          "Yes",
          "Yes",
          "No",
          "Yes",
          "No",
          "Yes",
          "No",
          "Yes",
          "No",
          "Yes",
          "Yes",
          "No",
          "Yes",
          "Yes",
          "No",
          "Yes",
          "No",
          "Yes",
          "No",
          "Yes",
          "No",
          "Yes",
          "Yes",
          "No",
          "Yes",
          "Yes",
          "No",
          "Yes",
          "Yes",
          "Yes",
          "No",
          "Yes",
          "No",
          "Yes",
          "No",
          "Yes",
          "Yes",
          "No",
          "Yes",
          "Yes",
          "No",
          "Yes",
          "Yes",
          "No",
          "Yes",
          "Yes",
          "No",
          "Yes",
          "No",
          "No",
          "Yes",
          "Yes",
          "Yes",
          "No",
          "Yes",
          "Yes",
          "No",
          "Yes",
          "No",
          "Yes",
          "No",
          "Yes",
          "Yes",
          "No",
          "Yes",
          "Yes",
          "Yes",
          "No",
          "Yes",
          "Yes",
          "No",
          "Yes",
          "No",
          "Yes",
          "No",
          "Yes",
          "Yes",
          "Yes",
          "No",
          "Yes",
          "Yes",
          "No",
          "Yes",
          "Yes",
          "No",
          "Yes",
          "Yes",
          "No",
          "Yes",
          "Yes",
          "No",
          "Yes",
          "Yes",
          "No",
          "Yes",
          "Yes",
          "No",
          "Yes",
          "Yes",
          "No",
          "Yes",
          "Yes",
          "No",
          "Yes",
          "Yes",
          "No",
          "Yes",
          "Yes",
          "No",
          "Yes",
          "Yes",
          "No",
          "Yes",
          "Yes",
          "No",
          "Yes",
          "Yes",
          "No",
          "Yes",
          "Yes",
          "No",
          "Yes",
          "Yes",
          "No",
          "Yes",
          "Yes",
          "Yes",
          "No",
          "Yes",
          "Yes",
          "No",
          "Yes",
          "Yes",
          "No",
          "Yes",
          "Yes",
          "No",
          "Yes",
          "Yes",
          "No",
          "Yes",
          "Yes",
          "No",
          "Yes",
          "Yes",
          "No",
          "Yes",
          "Yes",
          "No",
          "Yes",
          "Yes",
          "No",
          "Yes",
          "Yes",
          "No",
          "Yes",
          "Yes",
          "No",
          "Yes",
          "Yes",
          "No",
          "Yes",
          "Yes",
          "No",
          "Yes",
          "Yes",
          "No",
          "Yes",
          "Yes",
          "No",
          "Yes",
          "Yes",
          "No",
          "Yes",
          "Yes",
          "No",
          "Yes",
          "Yes",
          "No",
          "Yes",
          "Yes",
          "No",
          "Yes",
          "Yes",
          "No",
          "Yes",
          "Yes",
          "Yes",
          "No",
          "No",
          "No",
          "Yes",
          "Yes",
          "No",
          "Yes",
          "Yes",
          "No",
          "No",
          "No",
          "Yes",
          "Yes",
          "No",
          "Yes",
          "Yes",
          "No",
          "No",
          "No",
          "Yes",
          "Yes",
          "No",
          "Yes",
          "Yes",
          "No",
          "No",
          "No",
          "Yes",
          "Yes",
          "No",
          "Yes",
          "Yes",
          "No",
          "No",
          "No",
          "Yes",
          "Yes",
          "No",
          "Yes",
          "Yes",
          "No",
          "No",
          "No",
          "Yes",
          "Yes",
          "No",
          "Yes",
          "Yes",
          "No",
          "No",
          "No",
          "Yes",
          "Yes",
          "No",
          "Yes",
          "Yes",
          "No",
          "No",
          "No",
          "Yes",
          "Yes",
          "No",
          "Yes",
          "Yes",
          "No",
          "No",
          "No",
          "Yes",
          "Yes",
          "No",
          "Yes",
          "Yes",
          "No",
          "No",
          "No",
          "Yes",
          "Yes",
          "No",
          "Yes",
          "Yes",
          "No",
          "No",
          "No",
          "Yes",
          "Yes",
          "No",
          "Yes",
          "Yes",
          "No",
          "No",
          "No",
          "Yes",
          "Yes",
          "No",
          "Yes",
          "Yes",
          "No",
          "No",
          "Yes",
          "No",
          "Yes",
          "Yes",
          "No",
          "Yes",
          "Yes",
          "Yes",
          "No",
          "Yes",
          "Yes",
          "No",
          "Yes",
          "Yes",
          "No",
          "Yes",
          "Yes",
          "Yes",
          "No",
          "Yes",
          "Yes",
          "No",
          "Yes",
          "Yes",
          "No",
          "Yes",
          "Yes",
          "Yes",
          "No",
          "Yes",
          "Yes",
          "No",
          "Yes",
          "Yes",
          "No",
          "Yes",
          "Yes",
          "Yes",
          "No",
          "Yes",
          "Yes",
          "No",
          "Yes",
          "Yes",
          "No",
          "Yes",
          "Yes",
          "Yes",
          "No",
          "Yes",
          "Yes",
          "No",
          "Yes",
          "Yes",
          "No",
          "Yes",
          "Yes",
          "Yes",
          "No",
          "Yes",
          "Yes",
          "No",
          "Yes",
          "Yes",
          "No",
          "Yes",
          "Yes",
          "Yes",
          "No",
          "Yes",
          "Yes",
          "No",
          "Yes",
          "Yes",
          "No",
          "Yes",
          "Yes",
          "Yes",
          "No",
          "Yes",
          "Yes",
          "No",
          "Yes",
          "Yes",
          "No",
          "Yes",
          "Yes",
          "Yes",
          "No",
          "Yes",
          "Yes",
          "No",
          "Yes",
          "Yes",
          "No",
          "Yes",
          "Yes",
          "Yes",
          "No",
          "Yes",
          "Yes",
          "No",
          "Yes",
          "Yes",
          "No",
          "Yes",
          "Yes",
          "Yes",
          "No",
          "Yes",
          "Yes",
          "No",
          "Yes",
          "Yes",
          "No",
          "Yes",
          "Yes",
          "Yes",
          "No",
          "Yes",
          "Yes",
          "No",
          "Yes",
          "Yes",
          "No",
          "Yes",
          "Yes",
          "Yes",
          "No",
          "Yes",
          "Yes",
          "No",
          "Yes",
          "Yes",
          "No",
          "Yes",
          "Yes",
          "Yes",
          "No",
          "Yes",
          "Yes",
          "No",
          "Yes",
          "Yes",
          "No",
          "Yes",
          "Yes",
          "Yes",
          "No",
          "Yes",
          "Yes",
          "No",
          "Yes",
          "Yes",
          "No",
          "Yes",
          "Yes",
          "Yes",
          "No",
          "Yes",
          "Yes",
          "No",
          "Yes",
          "Yes",
          "No",
          "Yes",
          "Yes",
          "Yes",
          "No",
          "Yes",
          "Yes",
          "No",
          "Yes",
          "Yes",
          "No",
          "Yes",
          "Yes",
          "Yes",
          "No",
          "Yes",
          "Yes",
          "No",
          "No",
          "Yes",
          "Yes",
          "Yes",
          "Yes",
          "No",
          "Yes",
          "Yes",
          "Yes",
          "No",
          "No",
          "Yes",
          "Yes",
          "Yes",
          "Yes",
          "No",
          "Yes",
          "Yes",
          "Yes",
          "No",
          "No",
          "Yes",
          "Yes",
          "Yes",
          "Yes",
          "No",
          "Yes",
          "Yes",
          "Yes",
          "No",
          "No",
          "Yes",
          "Yes",
          "Yes",
          "Yes",
          "No",
          "Yes",
          "Yes",
          "Yes",
          "No",
          "No",
          "Yes",
          "Yes",
          "Yes",
          "Yes",
          "No",
          "Yes",
          "Yes",
          "Yes",
          "No",
          "No",
          "Yes",
          "Yes",
          "Yes",
          "Yes",
          "No",
          "Yes",
          "Yes",
          "Yes",
          "No",
          "No",
          "Yes",
          "Yes",
          "Yes",
          "Yes",
          "No",
          "Yes",
          "Yes",
          "Yes",
          "No",
          "Yes",
          "Yes",
          "No",
          "Yes",
          "Yes",
          "Yes",
          "No",
          "Yes",
          "Yes",
          "No",
          "Yes",
          "Yes",
          "No",
          "Yes",
          "No",
          "Yes",
          "No",
          "Yes",
          "Yes",
          "No",
          "Yes",
          "Yes",
          "Yes",
          "Yes",
          "No",
          "Yes",
          "No",
          "Yes",
          "Yes",
          "No",
          "Yes",
          "No",
          "Yes",
          "No",
          "Yes",
          "Yes",
          "No",
          "Yes",
          "Yes",
          "Yes",
          "No",
          "Yes",
          "Yes",
          "No",
          "Yes",
          "Yes",
          "No",
          "Yes",
          "No",
          "Yes",
          "No",
          "Yes",
          "Yes",
          "No",
          "Yes",
          "Yes",
          "Yes",
          "No",
          "Yes",
          "Yes",
          "No",
          "Yes",
          "Yes",
          "No",
          "Yes",
          "No",
          "Yes",
          "No",
          "Yes",
          "Yes",
          "No",
          "Yes",
          "Yes",
          "Yes",
          "No",
          "Yes",
          "Yes",
          "No",
          "Yes",
          "Yes",
          "No",
          "Yes",
          "No",
          "Yes",
          "No",
          "Yes",
          "Yes",
          "No",
          "Yes",
          "Yes",
          "Yes",
          "No",
          "Yes",
          "Yes",
          "No",
          "Yes",
          "Yes",
          "No",
          "Yes",
          "No",
          "Yes",
          "No",
          "Yes",
          "Yes",
          "No",
          "Yes",
          "Yes",
          "Yes",
          "No",
          "Yes",
          "Yes",
          "No",
          "Yes",
          "Yes",
          "No",
          "Yes",
          "No",
          "Yes",
          "No",
          "Yes",
          "Yes",
          "No",
          "Yes",
          "Yes",
          "Yes",
          "No",
          "Yes",
          "Yes",
          "No",
          "Yes",
          "Yes",
          "No",
          "Yes"
         ],
         "x0": " ",
         "xaxis": "x",
         "y": {
          "bdata": "CAMJBAcJAggFBAcIBAkFBwMIBQcIBAcIBQkFBwMIBQcIBAcIBQkGBwQIBQcIBAcIBQkGBwQIBQcIBAcIBQgHCQMHBggEBwgFBwgEBwgFBwkEBwYECAcIBAcJBQcGCAQHCAQHCAkEBwgFBwYIBAcIBwUIBwUIBwUIBwUIBwUIBwUIBwUIBwUIBwUIBwUIBwUIBwUIBwUIBwUIBwUIBwUIBwcGCAcFCAcGCAcFCAcGCAcFCAcGCAcFCAcGCAcFCAcGCAcFCAcGCAcFCAcGCAcFCAcGCAcFCAcGCAcFCAkHBQQDBwYFCQcFBAMIBgUJBwUEAwcGBQkHBQQDCAYFCQcFBAMHBgUJBwUEAwgGBQkHBQQDBwYFCQcFBAMIBgUJBwUEAwcGBQkHBQQDCAYFCQcFBAMHBgUJBwUEAwgGBQkHBQQHBAYIBAcJBwUHBwQGCAQHCQcFBwcEBggEBwkHBQcHBAYIBAcJBwUHBwQGCAQHCQcFBwcEBggEBwkHBQcHBAYIBAcJBwUHBwQGCAQHCQcFBwcEBggEBwkHBQcHBAYIBAcJBwUHBwQGCAQHCQcFBwcEBggEBwkHBQcHBAYIBAcJBwUHBwQGCAQHCQcFBwcEBggEBwkHBQcHBAYIBAcJBwUHBwQGCAQHCQcFBwcEBggEBwkHBQcHBQQGBwcIBQgGBwUEBgcHCAUIBgcFBAYHBwgFCAYHBQQGBwcIBQgGBwUEBgcHCAUIBgcFBAYHBwgFCAYHBQQGBwcIBQgGBwQICQUIBwgFBggFCAcECAUIBQcJBQgHCAcFCAUIBwQIBQgFBwkFCAcIBQcIBQkHBAgFCAUHCQUIBwgFBwgFCQcECAUIBQcJBQgHCAUHCAUJBwQIBQgFBwkFCAcIBQcIBQkHBAgFCAUHCQUIBwgFBwgFCQcECAUIBQcJBQgHCAUHCAUJBwQI",
          "dtype": "i1"
         },
         "y0": " ",
         "yaxis": "y"
        }
       ],
       "layout": {
        "boxmode": "group",
        "legend": {
         "tracegroupgap": 0
        },
        "template": {
         "data": {
          "bar": [
           {
            "error_x": {
             "color": "#2a3f5f"
            },
            "error_y": {
             "color": "#2a3f5f"
            },
            "marker": {
             "line": {
              "color": "#E5ECF6",
              "width": 0.5
             },
             "pattern": {
              "fillmode": "overlay",
              "size": 10,
              "solidity": 0.2
             }
            },
            "type": "bar"
           }
          ],
          "barpolar": [
           {
            "marker": {
             "line": {
              "color": "#E5ECF6",
              "width": 0.5
             },
             "pattern": {
              "fillmode": "overlay",
              "size": 10,
              "solidity": 0.2
             }
            },
            "type": "barpolar"
           }
          ],
          "carpet": [
           {
            "aaxis": {
             "endlinecolor": "#2a3f5f",
             "gridcolor": "white",
             "linecolor": "white",
             "minorgridcolor": "white",
             "startlinecolor": "#2a3f5f"
            },
            "baxis": {
             "endlinecolor": "#2a3f5f",
             "gridcolor": "white",
             "linecolor": "white",
             "minorgridcolor": "white",
             "startlinecolor": "#2a3f5f"
            },
            "type": "carpet"
           }
          ],
          "choropleth": [
           {
            "colorbar": {
             "outlinewidth": 0,
             "ticks": ""
            },
            "type": "choropleth"
           }
          ],
          "contour": [
           {
            "colorbar": {
             "outlinewidth": 0,
             "ticks": ""
            },
            "colorscale": [
             [
              0,
              "#0d0887"
             ],
             [
              0.1111111111111111,
              "#46039f"
             ],
             [
              0.2222222222222222,
              "#7201a8"
             ],
             [
              0.3333333333333333,
              "#9c179e"
             ],
             [
              0.4444444444444444,
              "#bd3786"
             ],
             [
              0.5555555555555556,
              "#d8576b"
             ],
             [
              0.6666666666666666,
              "#ed7953"
             ],
             [
              0.7777777777777778,
              "#fb9f3a"
             ],
             [
              0.8888888888888888,
              "#fdca26"
             ],
             [
              1,
              "#f0f921"
             ]
            ],
            "type": "contour"
           }
          ],
          "contourcarpet": [
           {
            "colorbar": {
             "outlinewidth": 0,
             "ticks": ""
            },
            "type": "contourcarpet"
           }
          ],
          "heatmap": [
           {
            "colorbar": {
             "outlinewidth": 0,
             "ticks": ""
            },
            "colorscale": [
             [
              0,
              "#0d0887"
             ],
             [
              0.1111111111111111,
              "#46039f"
             ],
             [
              0.2222222222222222,
              "#7201a8"
             ],
             [
              0.3333333333333333,
              "#9c179e"
             ],
             [
              0.4444444444444444,
              "#bd3786"
             ],
             [
              0.5555555555555556,
              "#d8576b"
             ],
             [
              0.6666666666666666,
              "#ed7953"
             ],
             [
              0.7777777777777778,
              "#fb9f3a"
             ],
             [
              0.8888888888888888,
              "#fdca26"
             ],
             [
              1,
              "#f0f921"
             ]
            ],
            "type": "heatmap"
           }
          ],
          "histogram": [
           {
            "marker": {
             "pattern": {
              "fillmode": "overlay",
              "size": 10,
              "solidity": 0.2
             }
            },
            "type": "histogram"
           }
          ],
          "histogram2d": [
           {
            "colorbar": {
             "outlinewidth": 0,
             "ticks": ""
            },
            "colorscale": [
             [
              0,
              "#0d0887"
             ],
             [
              0.1111111111111111,
              "#46039f"
             ],
             [
              0.2222222222222222,
              "#7201a8"
             ],
             [
              0.3333333333333333,
              "#9c179e"
             ],
             [
              0.4444444444444444,
              "#bd3786"
             ],
             [
              0.5555555555555556,
              "#d8576b"
             ],
             [
              0.6666666666666666,
              "#ed7953"
             ],
             [
              0.7777777777777778,
              "#fb9f3a"
             ],
             [
              0.8888888888888888,
              "#fdca26"
             ],
             [
              1,
              "#f0f921"
             ]
            ],
            "type": "histogram2d"
           }
          ],
          "histogram2dcontour": [
           {
            "colorbar": {
             "outlinewidth": 0,
             "ticks": ""
            },
            "colorscale": [
             [
              0,
              "#0d0887"
             ],
             [
              0.1111111111111111,
              "#46039f"
             ],
             [
              0.2222222222222222,
              "#7201a8"
             ],
             [
              0.3333333333333333,
              "#9c179e"
             ],
             [
              0.4444444444444444,
              "#bd3786"
             ],
             [
              0.5555555555555556,
              "#d8576b"
             ],
             [
              0.6666666666666666,
              "#ed7953"
             ],
             [
              0.7777777777777778,
              "#fb9f3a"
             ],
             [
              0.8888888888888888,
              "#fdca26"
             ],
             [
              1,
              "#f0f921"
             ]
            ],
            "type": "histogram2dcontour"
           }
          ],
          "mesh3d": [
           {
            "colorbar": {
             "outlinewidth": 0,
             "ticks": ""
            },
            "type": "mesh3d"
           }
          ],
          "parcoords": [
           {
            "line": {
             "colorbar": {
              "outlinewidth": 0,
              "ticks": ""
             }
            },
            "type": "parcoords"
           }
          ],
          "pie": [
           {
            "automargin": true,
            "type": "pie"
           }
          ],
          "scatter": [
           {
            "fillpattern": {
             "fillmode": "overlay",
             "size": 10,
             "solidity": 0.2
            },
            "type": "scatter"
           }
          ],
          "scatter3d": [
           {
            "line": {
             "colorbar": {
              "outlinewidth": 0,
              "ticks": ""
             }
            },
            "marker": {
             "colorbar": {
              "outlinewidth": 0,
              "ticks": ""
             }
            },
            "type": "scatter3d"
           }
          ],
          "scattercarpet": [
           {
            "marker": {
             "colorbar": {
              "outlinewidth": 0,
              "ticks": ""
             }
            },
            "type": "scattercarpet"
           }
          ],
          "scattergeo": [
           {
            "marker": {
             "colorbar": {
              "outlinewidth": 0,
              "ticks": ""
             }
            },
            "type": "scattergeo"
           }
          ],
          "scattergl": [
           {
            "marker": {
             "colorbar": {
              "outlinewidth": 0,
              "ticks": ""
             }
            },
            "type": "scattergl"
           }
          ],
          "scattermap": [
           {
            "marker": {
             "colorbar": {
              "outlinewidth": 0,
              "ticks": ""
             }
            },
            "type": "scattermap"
           }
          ],
          "scattermapbox": [
           {
            "marker": {
             "colorbar": {
              "outlinewidth": 0,
              "ticks": ""
             }
            },
            "type": "scattermapbox"
           }
          ],
          "scatterpolar": [
           {
            "marker": {
             "colorbar": {
              "outlinewidth": 0,
              "ticks": ""
             }
            },
            "type": "scatterpolar"
           }
          ],
          "scatterpolargl": [
           {
            "marker": {
             "colorbar": {
              "outlinewidth": 0,
              "ticks": ""
             }
            },
            "type": "scatterpolargl"
           }
          ],
          "scatterternary": [
           {
            "marker": {
             "colorbar": {
              "outlinewidth": 0,
              "ticks": ""
             }
            },
            "type": "scatterternary"
           }
          ],
          "surface": [
           {
            "colorbar": {
             "outlinewidth": 0,
             "ticks": ""
            },
            "colorscale": [
             [
              0,
              "#0d0887"
             ],
             [
              0.1111111111111111,
              "#46039f"
             ],
             [
              0.2222222222222222,
              "#7201a8"
             ],
             [
              0.3333333333333333,
              "#9c179e"
             ],
             [
              0.4444444444444444,
              "#bd3786"
             ],
             [
              0.5555555555555556,
              "#d8576b"
             ],
             [
              0.6666666666666666,
              "#ed7953"
             ],
             [
              0.7777777777777778,
              "#fb9f3a"
             ],
             [
              0.8888888888888888,
              "#fdca26"
             ],
             [
              1,
              "#f0f921"
             ]
            ],
            "type": "surface"
           }
          ],
          "table": [
           {
            "cells": {
             "fill": {
              "color": "#EBF0F8"
             },
             "line": {
              "color": "white"
             }
            },
            "header": {
             "fill": {
              "color": "#C8D4E3"
             },
             "line": {
              "color": "white"
             }
            },
            "type": "table"
           }
          ]
         },
         "layout": {
          "annotationdefaults": {
           "arrowcolor": "#2a3f5f",
           "arrowhead": 0,
           "arrowwidth": 1
          },
          "autotypenumbers": "strict",
          "coloraxis": {
           "colorbar": {
            "outlinewidth": 0,
            "ticks": ""
           }
          },
          "colorscale": {
           "diverging": [
            [
             0,
             "#8e0152"
            ],
            [
             0.1,
             "#c51b7d"
            ],
            [
             0.2,
             "#de77ae"
            ],
            [
             0.3,
             "#f1b6da"
            ],
            [
             0.4,
             "#fde0ef"
            ],
            [
             0.5,
             "#f7f7f7"
            ],
            [
             0.6,
             "#e6f5d0"
            ],
            [
             0.7,
             "#b8e186"
            ],
            [
             0.8,
             "#7fbc41"
            ],
            [
             0.9,
             "#4d9221"
            ],
            [
             1,
             "#276419"
            ]
           ],
           "sequential": [
            [
             0,
             "#0d0887"
            ],
            [
             0.1111111111111111,
             "#46039f"
            ],
            [
             0.2222222222222222,
             "#7201a8"
            ],
            [
             0.3333333333333333,
             "#9c179e"
            ],
            [
             0.4444444444444444,
             "#bd3786"
            ],
            [
             0.5555555555555556,
             "#d8576b"
            ],
            [
             0.6666666666666666,
             "#ed7953"
            ],
            [
             0.7777777777777778,
             "#fb9f3a"
            ],
            [
             0.8888888888888888,
             "#fdca26"
            ],
            [
             1,
             "#f0f921"
            ]
           ],
           "sequentialminus": [
            [
             0,
             "#0d0887"
            ],
            [
             0.1111111111111111,
             "#46039f"
            ],
            [
             0.2222222222222222,
             "#7201a8"
            ],
            [
             0.3333333333333333,
             "#9c179e"
            ],
            [
             0.4444444444444444,
             "#bd3786"
            ],
            [
             0.5555555555555556,
             "#d8576b"
            ],
            [
             0.6666666666666666,
             "#ed7953"
            ],
            [
             0.7777777777777778,
             "#fb9f3a"
            ],
            [
             0.8888888888888888,
             "#fdca26"
            ],
            [
             1,
             "#f0f921"
            ]
           ]
          },
          "colorway": [
           "#636efa",
           "#EF553B",
           "#00cc96",
           "#ab63fa",
           "#FFA15A",
           "#19d3f3",
           "#FF6692",
           "#B6E880",
           "#FF97FF",
           "#FECB52"
          ],
          "font": {
           "color": "#2a3f5f"
          },
          "geo": {
           "bgcolor": "white",
           "lakecolor": "white",
           "landcolor": "#E5ECF6",
           "showlakes": true,
           "showland": true,
           "subunitcolor": "white"
          },
          "hoverlabel": {
           "align": "left"
          },
          "hovermode": "closest",
          "mapbox": {
           "style": "light"
          },
          "paper_bgcolor": "white",
          "plot_bgcolor": "#E5ECF6",
          "polar": {
           "angularaxis": {
            "gridcolor": "white",
            "linecolor": "white",
            "ticks": ""
           },
           "bgcolor": "#E5ECF6",
           "radialaxis": {
            "gridcolor": "white",
            "linecolor": "white",
            "ticks": ""
           }
          },
          "scene": {
           "xaxis": {
            "backgroundcolor": "#E5ECF6",
            "gridcolor": "white",
            "gridwidth": 2,
            "linecolor": "white",
            "showbackground": true,
            "ticks": "",
            "zerolinecolor": "white"
           },
           "yaxis": {
            "backgroundcolor": "#E5ECF6",
            "gridcolor": "white",
            "gridwidth": 2,
            "linecolor": "white",
            "showbackground": true,
            "ticks": "",
            "zerolinecolor": "white"
           },
           "zaxis": {
            "backgroundcolor": "#E5ECF6",
            "gridcolor": "white",
            "gridwidth": 2,
            "linecolor": "white",
            "showbackground": true,
            "ticks": "",
            "zerolinecolor": "white"
           }
          },
          "shapedefaults": {
           "line": {
            "color": "#2a3f5f"
           }
          },
          "ternary": {
           "aaxis": {
            "gridcolor": "white",
            "linecolor": "white",
            "ticks": ""
           },
           "baxis": {
            "gridcolor": "white",
            "linecolor": "white",
            "ticks": ""
           },
           "bgcolor": "#E5ECF6",
           "caxis": {
            "gridcolor": "white",
            "linecolor": "white",
            "ticks": ""
           }
          },
          "title": {
           "x": 0.05
          },
          "xaxis": {
           "automargin": true,
           "gridcolor": "white",
           "linecolor": "white",
           "ticks": "",
           "title": {
            "standoff": 15
           },
           "zerolinecolor": "white",
           "zerolinewidth": 2
          },
          "yaxis": {
           "automargin": true,
           "gridcolor": "white",
           "linecolor": "white",
           "ticks": "",
           "title": {
            "standoff": 15
           },
           "zerolinecolor": "white",
           "zerolinewidth": 2
          }
         }
        },
        "title": {
         "text": "Average Daily Usage Hours by Academic Level"
        },
        "xaxis": {
         "anchor": "y",
         "domain": [
          0,
          1
         ],
         "title": {
          "text": "Affects_Academic_Performance"
         }
        },
        "yaxis": {
         "anchor": "x",
         "domain": [
          0,
          1
         ],
         "title": {
          "text": "Addicted_Score"
         }
        }
       }
      }
     },
     "metadata": {},
     "output_type": "display_data"
    }
   ],
   "source": [
    "import plotly.express as px\n",
    "fig1 = px.box(df, x='Affects_Academic_Performance', y='Addicted_Score', title='Average Daily Usage Hours by Academic Level')\n",
    "fig1.show()"
   ]
  },
  {
   "cell_type": "markdown",
   "id": "2d09d1fa",
   "metadata": {},
   "source": [
    "# 📊 Average Daily Social Media Usage by Academic Level  \n",
    "Displays a bar chart comparing average daily social media usage among students at different academic levels."
   ]
  },
  {
   "cell_type": "code",
   "execution_count": 7,
   "id": "3da91d24",
   "metadata": {},
   "outputs": [
    {
     "data": {
      "application/vnd.plotly.v1+json": {
       "config": {
        "plotlyServerURL": "https://plot.ly"
       },
       "data": [
        {
         "hovertemplate": "Addicted_Score=%{x}<br>Academic_Level=%{y}<extra></extra>",
         "legendgroup": "",
         "line": {
          "color": "#636efa",
          "dash": "solid"
         },
         "marker": {
          "symbol": "circle"
         },
         "mode": "lines",
         "name": "",
         "orientation": "h",
         "showlegend": false,
         "type": "scatter",
         "x": {
          "bdata": "CAMJBAcJAggFBAcIBAkFBwMIBQcIBAcIBQkFBwMIBQcIBAcIBQkGBwQIBQcIBAcIBQkGBwQIBQcIBAcIBQgHCQMHBggEBwgFBwgEBwgFBwkEBwYECAcIBAcJBQcGCAQHCAQHCAkEBwgFBwYIBAcIBwUIBwUIBwUIBwUIBwUIBwUIBwUIBwUIBwUIBwUIBwUIBwUIBwUIBwUIBwUIBwUIBwcGCAcFCAcGCAcFCAcGCAcFCAcGCAcFCAcGCAcFCAcGCAcFCAcGCAcFCAcGCAcFCAcGCAcFCAcGCAcFCAkHBQQDBwYFCQcFBAMIBgUJBwUEAwcGBQkHBQQDCAYFCQcFBAMHBgUJBwUEAwgGBQkHBQQDBwYFCQcFBAMIBgUJBwUEAwcGBQkHBQQDCAYFCQcFBAMHBgUJBwUEAwgGBQkHBQQHBAYIBAcJBwUHBwQGCAQHCQcFBwcEBggEBwkHBQcHBAYIBAcJBwUHBwQGCAQHCQcFBwcEBggEBwkHBQcHBAYIBAcJBwUHBwQGCAQHCQcFBwcEBggEBwkHBQcHBAYIBAcJBwUHBwQGCAQHCQcFBwcEBggEBwkHBQcHBAYIBAcJBwUHBwQGCAQHCQcFBwcEBggEBwkHBQcHBAYIBAcJBwUHBwQGCAQHCQcFBwcEBggEBwkHBQcHBQQGBwcIBQgGBwUEBgcHCAUIBgcFBAYHBwgFCAYHBQQGBwcIBQgGBwUEBgcHCAUIBgcFBAYHBwgFCAYHBQQGBwcIBQgGBwQICQUIBwgFBggFCAcECAUIBQcJBQgHCAcFCAUIBwQIBQgFBwkFCAcIBQcIBQkHBAgFCAUHCQUIBwgFBwgFCQcECAUIBQcJBQgHCAUHCAUJBwQIBQgFBwkFCAcIBQcIBQkHBAgFCAUHCQUIBwgFBwgFCQcECAUIBQcJBQgHCAUHCAUJBwQI",
          "dtype": "i1"
         },
         "xaxis": "x",
         "y": [
          "Undergraduate",
          "Graduate",
          "Undergraduate",
          "High School",
          "Graduate",
          "Undergraduate",
          "Graduate",
          "Undergraduate",
          "High School",
          "Graduate",
          "Undergraduate",
          "Undergraduate",
          "Graduate",
          "High School",
          "Undergraduate",
          "Undergraduate",
          "Graduate",
          "High School",
          "Undergraduate",
          "Undergraduate",
          "High School",
          "Graduate",
          "Undergraduate",
          "Undergraduate",
          "Graduate",
          "High School",
          "Undergraduate",
          "Undergraduate",
          "Graduate",
          "High School",
          "Undergraduate",
          "Undergraduate",
          "High School",
          "Graduate",
          "Undergraduate",
          "Undergraduate",
          "Graduate",
          "High School",
          "Undergraduate",
          "Undergraduate",
          "Graduate",
          "High School",
          "Undergraduate",
          "Undergraduate",
          "High School",
          "Graduate",
          "Undergraduate",
          "Undergraduate",
          "Graduate",
          "High School",
          "Undergraduate",
          "Undergraduate",
          "Graduate",
          "High School",
          "Undergraduate",
          "Undergraduate",
          "High School",
          "Graduate",
          "Undergraduate",
          "Undergraduate",
          "Graduate",
          "Undergraduate",
          "Undergraduate",
          "High School",
          "Graduate",
          "Undergraduate",
          "Undergraduate",
          "High School",
          "Graduate",
          "Undergraduate",
          "High School",
          "Graduate",
          "Undergraduate",
          "Undergraduate",
          "Graduate",
          "Undergraduate",
          "High School",
          "Graduate",
          "Undergraduate",
          "High School",
          "Graduate",
          "Undergraduate",
          "Undergraduate",
          "Graduate",
          "High School",
          "Undergraduate",
          "High School",
          "Graduate",
          "Undergraduate",
          "High School",
          "Graduate",
          "Undergraduate",
          "Undergraduate",
          "High School",
          "Graduate",
          "Undergraduate",
          "High School",
          "Graduate",
          "Undergraduate",
          "Undergraduate",
          "High School",
          "Graduate",
          "Undergraduate",
          "High School",
          "Graduate",
          "Undergraduate",
          "Undergraduate",
          "High School",
          "Graduate",
          "Undergraduate",
          "Undergraduate",
          "Undergraduate",
          "Undergraduate",
          "Graduate",
          "Undergraduate",
          "Undergraduate",
          "Graduate",
          "Undergraduate",
          "Graduate",
          "Undergraduate",
          "Undergraduate",
          "Graduate",
          "Undergraduate",
          "Graduate",
          "Undergraduate",
          "Graduate",
          "Undergraduate",
          "Undergraduate",
          "Graduate",
          "Graduate",
          "Undergraduate",
          "Undergraduate",
          "Graduate",
          "Graduate",
          "Undergraduate",
          "Undergraduate",
          "Graduate",
          "Graduate",
          "Undergraduate",
          "Undergraduate",
          "Graduate",
          "Graduate",
          "Undergraduate",
          "Undergraduate",
          "Graduate",
          "Graduate",
          "Undergraduate",
          "Undergraduate",
          "Graduate",
          "Graduate",
          "Undergraduate",
          "Undergraduate",
          "Graduate",
          "Graduate",
          "Undergraduate",
          "Undergraduate",
          "Graduate",
          "Graduate",
          "Undergraduate",
          "Undergraduate",
          "Undergraduate",
          "Graduate",
          "Undergraduate",
          "Graduate",
          "Undergraduate",
          "Graduate",
          "Undergraduate",
          "Graduate",
          "Undergraduate",
          "Graduate",
          "Undergraduate",
          "Graduate",
          "Undergraduate",
          "Graduate",
          "Undergraduate",
          "Graduate",
          "Undergraduate",
          "Graduate",
          "Undergraduate",
          "Graduate",
          "Undergraduate",
          "Graduate",
          "Undergraduate",
          "Graduate",
          "Undergraduate",
          "Graduate",
          "Undergraduate",
          "Graduate",
          "Undergraduate",
          "Graduate",
          "Undergraduate",
          "Graduate",
          "Undergraduate",
          "Graduate",
          "Undergraduate",
          "Graduate",
          "Undergraduate",
          "Graduate",
          "Undergraduate",
          "Graduate",
          "Undergraduate",
          "Graduate",
          "Undergraduate",
          "Graduate",
          "Undergraduate",
          "Graduate",
          "Undergraduate",
          "Graduate",
          "Undergraduate",
          "Graduate",
          "Undergraduate",
          "Graduate",
          "Undergraduate",
          "Graduate",
          "Undergraduate",
          "Graduate",
          "Undergraduate",
          "Graduate",
          "Undergraduate",
          "Graduate",
          "Undergraduate",
          "Graduate",
          "Undergraduate",
          "Graduate",
          "Undergraduate",
          "Graduate",
          "Undergraduate",
          "Graduate",
          "Undergraduate",
          "Graduate",
          "Undergraduate",
          "Graduate",
          "Undergraduate",
          "Graduate",
          "Undergraduate",
          "Graduate",
          "Undergraduate",
          "Graduate",
          "Undergraduate",
          "Graduate",
          "Undergraduate",
          "Graduate",
          "Undergraduate",
          "Graduate",
          "Undergraduate",
          "Graduate",
          "Undergraduate",
          "Graduate",
          "Undergraduate",
          "Graduate",
          "Undergraduate",
          "Graduate",
          "Undergraduate",
          "Graduate",
          "Undergraduate",
          "Graduate",
          "Undergraduate",
          "Graduate",
          "Undergraduate",
          "Graduate",
          "Undergraduate",
          "Graduate",
          "Undergraduate",
          "Graduate",
          "Undergraduate",
          "Graduate",
          "Undergraduate",
          "Graduate",
          "Undergraduate",
          "Graduate",
          "Undergraduate",
          "Graduate",
          "Undergraduate",
          "Graduate",
          "Undergraduate",
          "Graduate",
          "Undergraduate",
          "Graduate",
          "Undergraduate",
          "Graduate",
          "Undergraduate",
          "Graduate",
          "Undergraduate",
          "Graduate",
          "Undergraduate",
          "Graduate",
          "Undergraduate",
          "Graduate",
          "Undergraduate",
          "Graduate",
          "Undergraduate",
          "Graduate",
          "Undergraduate",
          "Graduate",
          "Undergraduate",
          "Graduate",
          "Undergraduate",
          "Graduate",
          "Undergraduate",
          "Graduate",
          "Undergraduate",
          "Graduate",
          "Undergraduate",
          "Graduate",
          "Undergraduate",
          "Graduate",
          "Undergraduate",
          "Graduate",
          "Undergraduate",
          "Graduate",
          "Undergraduate",
          "Graduate",
          "Undergraduate",
          "Graduate",
          "Undergraduate",
          "Graduate",
          "Undergraduate",
          "Graduate",
          "Undergraduate",
          "Graduate",
          "Undergraduate",
          "Graduate",
          "Undergraduate",
          "Graduate",
          "Undergraduate",
          "Graduate",
          "Undergraduate",
          "Graduate",
          "Undergraduate",
          "Graduate",
          "Undergraduate",
          "Graduate",
          "Undergraduate",
          "Graduate",
          "Undergraduate",
          "Graduate",
          "Undergraduate",
          "Graduate",
          "Undergraduate",
          "Graduate",
          "Undergraduate",
          "Graduate",
          "Undergraduate",
          "Graduate",
          "Undergraduate",
          "Graduate",
          "Undergraduate",
          "Graduate",
          "Undergraduate",
          "Graduate",
          "Undergraduate",
          "Graduate",
          "Undergraduate",
          "Graduate",
          "Undergraduate",
          "Graduate",
          "Undergraduate",
          "Graduate",
          "Undergraduate",
          "Graduate",
          "Undergraduate",
          "Graduate",
          "Undergraduate",
          "Graduate",
          "Undergraduate",
          "Graduate",
          "Undergraduate",
          "Graduate",
          "Undergraduate",
          "Graduate",
          "Undergraduate",
          "Graduate",
          "Undergraduate",
          "Graduate",
          "Undergraduate",
          "Graduate",
          "Undergraduate",
          "Graduate",
          "Undergraduate",
          "Graduate",
          "Undergraduate",
          "Graduate",
          "Undergraduate",
          "Graduate",
          "Undergraduate",
          "Graduate",
          "Undergraduate",
          "Graduate",
          "Undergraduate",
          "Graduate",
          "Undergraduate",
          "Graduate",
          "Undergraduate",
          "Graduate",
          "Undergraduate",
          "Graduate",
          "Undergraduate",
          "Graduate",
          "Undergraduate",
          "Graduate",
          "Undergraduate",
          "Graduate",
          "Undergraduate",
          "Graduate",
          "Undergraduate",
          "Graduate",
          "Undergraduate",
          "Graduate",
          "Undergraduate",
          "Graduate",
          "Undergraduate",
          "Graduate",
          "Undergraduate",
          "Graduate",
          "Undergraduate",
          "Graduate",
          "Undergraduate",
          "Graduate",
          "Undergraduate",
          "Graduate",
          "Undergraduate",
          "Graduate",
          "Undergraduate",
          "Graduate",
          "Undergraduate",
          "Graduate",
          "Undergraduate",
          "Graduate",
          "Undergraduate",
          "Graduate",
          "Undergraduate",
          "Graduate",
          "Undergraduate",
          "Graduate",
          "Undergraduate",
          "Graduate",
          "Undergraduate",
          "Graduate",
          "Undergraduate",
          "Graduate",
          "Undergraduate",
          "Graduate",
          "Undergraduate",
          "Graduate",
          "Undergraduate",
          "Graduate",
          "Undergraduate",
          "Graduate",
          "Undergraduate",
          "Graduate",
          "Undergraduate",
          "Graduate",
          "Undergraduate",
          "Graduate",
          "Undergraduate",
          "Graduate",
          "Undergraduate",
          "Graduate",
          "Undergraduate",
          "Graduate",
          "Undergraduate",
          "Graduate",
          "Undergraduate",
          "Graduate",
          "Undergraduate",
          "Graduate",
          "Undergraduate",
          "Graduate",
          "Undergraduate",
          "Graduate",
          "Undergraduate",
          "Graduate",
          "Undergraduate",
          "Graduate",
          "Undergraduate",
          "Graduate",
          "Undergraduate",
          "Graduate",
          "Undergraduate",
          "Graduate",
          "Undergraduate",
          "Graduate",
          "Undergraduate",
          "Graduate",
          "Undergraduate",
          "Graduate",
          "Undergraduate",
          "Graduate",
          "Undergraduate",
          "Graduate",
          "Undergraduate",
          "Graduate",
          "Undergraduate",
          "Graduate",
          "Undergraduate",
          "Graduate",
          "Undergraduate",
          "Graduate",
          "Undergraduate",
          "Graduate",
          "Undergraduate",
          "Graduate",
          "Undergraduate",
          "Graduate",
          "Undergraduate",
          "Graduate",
          "Undergraduate",
          "Graduate",
          "Undergraduate",
          "Graduate",
          "Undergraduate",
          "Graduate",
          "Undergraduate",
          "Graduate",
          "Undergraduate",
          "Graduate",
          "Undergraduate",
          "Graduate",
          "Undergraduate",
          "Graduate",
          "Undergraduate",
          "Graduate",
          "Undergraduate",
          "Graduate",
          "Undergraduate",
          "Graduate",
          "Undergraduate",
          "Graduate",
          "Undergraduate",
          "Graduate",
          "Undergraduate",
          "Graduate",
          "Undergraduate",
          "Graduate",
          "Undergraduate",
          "Graduate",
          "Undergraduate",
          "Graduate",
          "Undergraduate",
          "Graduate",
          "Undergraduate",
          "Graduate",
          "Undergraduate",
          "Graduate",
          "Undergraduate",
          "Graduate",
          "Undergraduate",
          "Graduate",
          "Undergraduate",
          "Graduate",
          "Undergraduate",
          "Graduate",
          "Undergraduate",
          "Graduate",
          "Undergraduate",
          "Graduate",
          "Undergraduate",
          "Graduate",
          "Undergraduate",
          "Graduate",
          "Undergraduate",
          "Graduate",
          "Undergraduate",
          "Graduate",
          "Undergraduate",
          "Graduate",
          "Undergraduate",
          "Graduate",
          "Undergraduate",
          "Graduate",
          "Undergraduate",
          "Graduate",
          "Undergraduate",
          "Graduate",
          "Undergraduate",
          "Graduate",
          "Undergraduate",
          "Graduate",
          "Undergraduate",
          "Graduate",
          "Undergraduate",
          "Graduate",
          "Undergraduate",
          "Graduate",
          "Undergraduate",
          "Graduate",
          "Undergraduate",
          "Graduate",
          "Undergraduate",
          "Graduate",
          "Undergraduate",
          "Graduate",
          "Undergraduate",
          "Graduate",
          "Undergraduate",
          "Undergraduate",
          "Graduate",
          "Undergraduate",
          "Graduate",
          "Undergraduate",
          "Graduate",
          "Undergraduate",
          "Graduate",
          "Undergraduate",
          "Graduate",
          "Undergraduate",
          "Graduate",
          "Undergraduate",
          "Graduate",
          "Undergraduate",
          "Graduate",
          "Undergraduate",
          "Graduate",
          "Undergraduate",
          "Graduate",
          "Undergraduate",
          "Graduate",
          "Undergraduate",
          "Graduate",
          "Undergraduate",
          "Graduate",
          "Undergraduate",
          "Graduate",
          "Undergraduate",
          "Graduate",
          "Undergraduate",
          "Graduate",
          "Undergraduate",
          "Graduate",
          "Undergraduate",
          "Graduate",
          "Undergraduate",
          "Graduate",
          "Undergraduate",
          "Graduate",
          "Undergraduate",
          "Graduate",
          "Undergraduate",
          "Graduate",
          "Undergraduate",
          "Graduate",
          "Undergraduate",
          "Graduate",
          "Undergraduate",
          "Graduate",
          "Graduate",
          "Undergraduate",
          "Graduate",
          "Undergraduate",
          "Graduate",
          "Undergraduate",
          "Graduate",
          "Undergraduate",
          "Graduate",
          "Undergraduate",
          "Graduate",
          "Undergraduate",
          "Graduate",
          "Undergraduate",
          "Graduate",
          "Undergraduate",
          "Graduate",
          "Undergraduate",
          "Graduate",
          "Undergraduate",
          "Graduate",
          "Undergraduate",
          "Graduate",
          "Undergraduate",
          "Graduate",
          "Undergraduate",
          "Graduate",
          "Undergraduate",
          "Graduate",
          "Undergraduate",
          "Graduate",
          "Undergraduate",
          "Graduate",
          "Undergraduate",
          "Graduate",
          "Undergraduate",
          "Graduate",
          "Undergraduate",
          "Graduate",
          "Undergraduate",
          "Graduate",
          "Undergraduate",
          "Graduate",
          "Undergraduate",
          "Graduate",
          "Undergraduate",
          "Graduate",
          "Undergraduate",
          "Graduate",
          "Undergraduate",
          "Graduate",
          "Undergraduate",
          "Graduate",
          "Undergraduate",
          "Graduate",
          "Undergraduate",
          "Graduate",
          "Undergraduate",
          "Graduate",
          "Undergraduate"
         ],
         "yaxis": "y"
        }
       ],
       "layout": {
        "legend": {
         "tracegroupgap": 0
        },
        "template": {
         "data": {
          "bar": [
           {
            "error_x": {
             "color": "#2a3f5f"
            },
            "error_y": {
             "color": "#2a3f5f"
            },
            "marker": {
             "line": {
              "color": "#E5ECF6",
              "width": 0.5
             },
             "pattern": {
              "fillmode": "overlay",
              "size": 10,
              "solidity": 0.2
             }
            },
            "type": "bar"
           }
          ],
          "barpolar": [
           {
            "marker": {
             "line": {
              "color": "#E5ECF6",
              "width": 0.5
             },
             "pattern": {
              "fillmode": "overlay",
              "size": 10,
              "solidity": 0.2
             }
            },
            "type": "barpolar"
           }
          ],
          "carpet": [
           {
            "aaxis": {
             "endlinecolor": "#2a3f5f",
             "gridcolor": "white",
             "linecolor": "white",
             "minorgridcolor": "white",
             "startlinecolor": "#2a3f5f"
            },
            "baxis": {
             "endlinecolor": "#2a3f5f",
             "gridcolor": "white",
             "linecolor": "white",
             "minorgridcolor": "white",
             "startlinecolor": "#2a3f5f"
            },
            "type": "carpet"
           }
          ],
          "choropleth": [
           {
            "colorbar": {
             "outlinewidth": 0,
             "ticks": ""
            },
            "type": "choropleth"
           }
          ],
          "contour": [
           {
            "colorbar": {
             "outlinewidth": 0,
             "ticks": ""
            },
            "colorscale": [
             [
              0,
              "#0d0887"
             ],
             [
              0.1111111111111111,
              "#46039f"
             ],
             [
              0.2222222222222222,
              "#7201a8"
             ],
             [
              0.3333333333333333,
              "#9c179e"
             ],
             [
              0.4444444444444444,
              "#bd3786"
             ],
             [
              0.5555555555555556,
              "#d8576b"
             ],
             [
              0.6666666666666666,
              "#ed7953"
             ],
             [
              0.7777777777777778,
              "#fb9f3a"
             ],
             [
              0.8888888888888888,
              "#fdca26"
             ],
             [
              1,
              "#f0f921"
             ]
            ],
            "type": "contour"
           }
          ],
          "contourcarpet": [
           {
            "colorbar": {
             "outlinewidth": 0,
             "ticks": ""
            },
            "type": "contourcarpet"
           }
          ],
          "heatmap": [
           {
            "colorbar": {
             "outlinewidth": 0,
             "ticks": ""
            },
            "colorscale": [
             [
              0,
              "#0d0887"
             ],
             [
              0.1111111111111111,
              "#46039f"
             ],
             [
              0.2222222222222222,
              "#7201a8"
             ],
             [
              0.3333333333333333,
              "#9c179e"
             ],
             [
              0.4444444444444444,
              "#bd3786"
             ],
             [
              0.5555555555555556,
              "#d8576b"
             ],
             [
              0.6666666666666666,
              "#ed7953"
             ],
             [
              0.7777777777777778,
              "#fb9f3a"
             ],
             [
              0.8888888888888888,
              "#fdca26"
             ],
             [
              1,
              "#f0f921"
             ]
            ],
            "type": "heatmap"
           }
          ],
          "histogram": [
           {
            "marker": {
             "pattern": {
              "fillmode": "overlay",
              "size": 10,
              "solidity": 0.2
             }
            },
            "type": "histogram"
           }
          ],
          "histogram2d": [
           {
            "colorbar": {
             "outlinewidth": 0,
             "ticks": ""
            },
            "colorscale": [
             [
              0,
              "#0d0887"
             ],
             [
              0.1111111111111111,
              "#46039f"
             ],
             [
              0.2222222222222222,
              "#7201a8"
             ],
             [
              0.3333333333333333,
              "#9c179e"
             ],
             [
              0.4444444444444444,
              "#bd3786"
             ],
             [
              0.5555555555555556,
              "#d8576b"
             ],
             [
              0.6666666666666666,
              "#ed7953"
             ],
             [
              0.7777777777777778,
              "#fb9f3a"
             ],
             [
              0.8888888888888888,
              "#fdca26"
             ],
             [
              1,
              "#f0f921"
             ]
            ],
            "type": "histogram2d"
           }
          ],
          "histogram2dcontour": [
           {
            "colorbar": {
             "outlinewidth": 0,
             "ticks": ""
            },
            "colorscale": [
             [
              0,
              "#0d0887"
             ],
             [
              0.1111111111111111,
              "#46039f"
             ],
             [
              0.2222222222222222,
              "#7201a8"
             ],
             [
              0.3333333333333333,
              "#9c179e"
             ],
             [
              0.4444444444444444,
              "#bd3786"
             ],
             [
              0.5555555555555556,
              "#d8576b"
             ],
             [
              0.6666666666666666,
              "#ed7953"
             ],
             [
              0.7777777777777778,
              "#fb9f3a"
             ],
             [
              0.8888888888888888,
              "#fdca26"
             ],
             [
              1,
              "#f0f921"
             ]
            ],
            "type": "histogram2dcontour"
           }
          ],
          "mesh3d": [
           {
            "colorbar": {
             "outlinewidth": 0,
             "ticks": ""
            },
            "type": "mesh3d"
           }
          ],
          "parcoords": [
           {
            "line": {
             "colorbar": {
              "outlinewidth": 0,
              "ticks": ""
             }
            },
            "type": "parcoords"
           }
          ],
          "pie": [
           {
            "automargin": true,
            "type": "pie"
           }
          ],
          "scatter": [
           {
            "fillpattern": {
             "fillmode": "overlay",
             "size": 10,
             "solidity": 0.2
            },
            "type": "scatter"
           }
          ],
          "scatter3d": [
           {
            "line": {
             "colorbar": {
              "outlinewidth": 0,
              "ticks": ""
             }
            },
            "marker": {
             "colorbar": {
              "outlinewidth": 0,
              "ticks": ""
             }
            },
            "type": "scatter3d"
           }
          ],
          "scattercarpet": [
           {
            "marker": {
             "colorbar": {
              "outlinewidth": 0,
              "ticks": ""
             }
            },
            "type": "scattercarpet"
           }
          ],
          "scattergeo": [
           {
            "marker": {
             "colorbar": {
              "outlinewidth": 0,
              "ticks": ""
             }
            },
            "type": "scattergeo"
           }
          ],
          "scattergl": [
           {
            "marker": {
             "colorbar": {
              "outlinewidth": 0,
              "ticks": ""
             }
            },
            "type": "scattergl"
           }
          ],
          "scattermap": [
           {
            "marker": {
             "colorbar": {
              "outlinewidth": 0,
              "ticks": ""
             }
            },
            "type": "scattermap"
           }
          ],
          "scattermapbox": [
           {
            "marker": {
             "colorbar": {
              "outlinewidth": 0,
              "ticks": ""
             }
            },
            "type": "scattermapbox"
           }
          ],
          "scatterpolar": [
           {
            "marker": {
             "colorbar": {
              "outlinewidth": 0,
              "ticks": ""
             }
            },
            "type": "scatterpolar"
           }
          ],
          "scatterpolargl": [
           {
            "marker": {
             "colorbar": {
              "outlinewidth": 0,
              "ticks": ""
             }
            },
            "type": "scatterpolargl"
           }
          ],
          "scatterternary": [
           {
            "marker": {
             "colorbar": {
              "outlinewidth": 0,
              "ticks": ""
             }
            },
            "type": "scatterternary"
           }
          ],
          "surface": [
           {
            "colorbar": {
             "outlinewidth": 0,
             "ticks": ""
            },
            "colorscale": [
             [
              0,
              "#0d0887"
             ],
             [
              0.1111111111111111,
              "#46039f"
             ],
             [
              0.2222222222222222,
              "#7201a8"
             ],
             [
              0.3333333333333333,
              "#9c179e"
             ],
             [
              0.4444444444444444,
              "#bd3786"
             ],
             [
              0.5555555555555556,
              "#d8576b"
             ],
             [
              0.6666666666666666,
              "#ed7953"
             ],
             [
              0.7777777777777778,
              "#fb9f3a"
             ],
             [
              0.8888888888888888,
              "#fdca26"
             ],
             [
              1,
              "#f0f921"
             ]
            ],
            "type": "surface"
           }
          ],
          "table": [
           {
            "cells": {
             "fill": {
              "color": "#EBF0F8"
             },
             "line": {
              "color": "white"
             }
            },
            "header": {
             "fill": {
              "color": "#C8D4E3"
             },
             "line": {
              "color": "white"
             }
            },
            "type": "table"
           }
          ]
         },
         "layout": {
          "annotationdefaults": {
           "arrowcolor": "#2a3f5f",
           "arrowhead": 0,
           "arrowwidth": 1
          },
          "autotypenumbers": "strict",
          "coloraxis": {
           "colorbar": {
            "outlinewidth": 0,
            "ticks": ""
           }
          },
          "colorscale": {
           "diverging": [
            [
             0,
             "#8e0152"
            ],
            [
             0.1,
             "#c51b7d"
            ],
            [
             0.2,
             "#de77ae"
            ],
            [
             0.3,
             "#f1b6da"
            ],
            [
             0.4,
             "#fde0ef"
            ],
            [
             0.5,
             "#f7f7f7"
            ],
            [
             0.6,
             "#e6f5d0"
            ],
            [
             0.7,
             "#b8e186"
            ],
            [
             0.8,
             "#7fbc41"
            ],
            [
             0.9,
             "#4d9221"
            ],
            [
             1,
             "#276419"
            ]
           ],
           "sequential": [
            [
             0,
             "#0d0887"
            ],
            [
             0.1111111111111111,
             "#46039f"
            ],
            [
             0.2222222222222222,
             "#7201a8"
            ],
            [
             0.3333333333333333,
             "#9c179e"
            ],
            [
             0.4444444444444444,
             "#bd3786"
            ],
            [
             0.5555555555555556,
             "#d8576b"
            ],
            [
             0.6666666666666666,
             "#ed7953"
            ],
            [
             0.7777777777777778,
             "#fb9f3a"
            ],
            [
             0.8888888888888888,
             "#fdca26"
            ],
            [
             1,
             "#f0f921"
            ]
           ],
           "sequentialminus": [
            [
             0,
             "#0d0887"
            ],
            [
             0.1111111111111111,
             "#46039f"
            ],
            [
             0.2222222222222222,
             "#7201a8"
            ],
            [
             0.3333333333333333,
             "#9c179e"
            ],
            [
             0.4444444444444444,
             "#bd3786"
            ],
            [
             0.5555555555555556,
             "#d8576b"
            ],
            [
             0.6666666666666666,
             "#ed7953"
            ],
            [
             0.7777777777777778,
             "#fb9f3a"
            ],
            [
             0.8888888888888888,
             "#fdca26"
            ],
            [
             1,
             "#f0f921"
            ]
           ]
          },
          "colorway": [
           "#636efa",
           "#EF553B",
           "#00cc96",
           "#ab63fa",
           "#FFA15A",
           "#19d3f3",
           "#FF6692",
           "#B6E880",
           "#FF97FF",
           "#FECB52"
          ],
          "font": {
           "color": "#2a3f5f"
          },
          "geo": {
           "bgcolor": "white",
           "lakecolor": "white",
           "landcolor": "#E5ECF6",
           "showlakes": true,
           "showland": true,
           "subunitcolor": "white"
          },
          "hoverlabel": {
           "align": "left"
          },
          "hovermode": "closest",
          "mapbox": {
           "style": "light"
          },
          "paper_bgcolor": "white",
          "plot_bgcolor": "#E5ECF6",
          "polar": {
           "angularaxis": {
            "gridcolor": "white",
            "linecolor": "white",
            "ticks": ""
           },
           "bgcolor": "#E5ECF6",
           "radialaxis": {
            "gridcolor": "white",
            "linecolor": "white",
            "ticks": ""
           }
          },
          "scene": {
           "xaxis": {
            "backgroundcolor": "#E5ECF6",
            "gridcolor": "white",
            "gridwidth": 2,
            "linecolor": "white",
            "showbackground": true,
            "ticks": "",
            "zerolinecolor": "white"
           },
           "yaxis": {
            "backgroundcolor": "#E5ECF6",
            "gridcolor": "white",
            "gridwidth": 2,
            "linecolor": "white",
            "showbackground": true,
            "ticks": "",
            "zerolinecolor": "white"
           },
           "zaxis": {
            "backgroundcolor": "#E5ECF6",
            "gridcolor": "white",
            "gridwidth": 2,
            "linecolor": "white",
            "showbackground": true,
            "ticks": "",
            "zerolinecolor": "white"
           }
          },
          "shapedefaults": {
           "line": {
            "color": "#2a3f5f"
           }
          },
          "ternary": {
           "aaxis": {
            "gridcolor": "white",
            "linecolor": "white",
            "ticks": ""
           },
           "baxis": {
            "gridcolor": "white",
            "linecolor": "white",
            "ticks": ""
           },
           "bgcolor": "#E5ECF6",
           "caxis": {
            "gridcolor": "white",
            "linecolor": "white",
            "ticks": ""
           }
          },
          "title": {
           "x": 0.05
          },
          "xaxis": {
           "automargin": true,
           "gridcolor": "white",
           "linecolor": "white",
           "ticks": "",
           "title": {
            "standoff": 15
           },
           "zerolinecolor": "white",
           "zerolinewidth": 2
          },
          "yaxis": {
           "automargin": true,
           "gridcolor": "white",
           "linecolor": "white",
           "ticks": "",
           "title": {
            "standoff": 15
           },
           "zerolinecolor": "white",
           "zerolinewidth": 2
          }
         }
        },
        "title": {
         "text": "Average Addicted Score across Academic Levels"
        },
        "xaxis": {
         "anchor": "y",
         "domain": [
          0,
          1
         ],
         "title": {
          "text": "Addicted_Score"
         }
        },
        "yaxis": {
         "anchor": "x",
         "domain": [
          0,
          1
         ],
         "title": {
          "text": "Academic_Level"
         }
        }
       }
      }
     },
     "metadata": {},
     "output_type": "display_data"
    }
   ],
   "source": [
    "fig2 = px.line(df, y='Academic_Level', x='Addicted_Score', title='Average Addicted Score across Academic Levels')\n",
    "fig2.show()"
   ]
  },
  {
   "cell_type": "markdown",
   "id": "278863f2",
   "metadata": {},
   "source": [
    "# 🥧 Distribution of Most Used Platforms  \n",
    "Shows a pie chart illustrating the proportion of students using different social media platforms"
   ]
  },
  {
   "cell_type": "code",
   "execution_count": 8,
   "id": "d621cc2f",
   "metadata": {},
   "outputs": [
    {
     "data": {
      "application/vnd.plotly.v1+json": {
       "config": {
        "plotlyServerURL": "https://plot.ly"
       },
       "data": [
        {
         "domain": {
          "x": [
           0,
           1
          ],
          "y": [
           0,
           1
          ]
         },
         "hovertemplate": "Most_Used_Platform=%{label}<extra></extra>",
         "labels": [
          "Instagram",
          "Twitter",
          "TikTok",
          "YouTube",
          "Facebook",
          "Instagram",
          "LinkedIn",
          "Snapchat",
          "TikTok",
          "Instagram",
          "Snapchat",
          "TikTok",
          "LinkedIn",
          "Instagram",
          "YouTube",
          "TikTok",
          "LinkedIn",
          "Instagram",
          "Facebook",
          "Snapchat",
          "TikTok",
          "LinkedIn",
          "Instagram",
          "TikTok",
          "Facebook",
          "Instagram",
          "YouTube",
          "TikTok",
          "LinkedIn",
          "Instagram",
          "Facebook",
          "Snapchat",
          "TikTok",
          "LinkedIn",
          "Instagram",
          "TikTok",
          "Facebook",
          "Instagram",
          "YouTube",
          "TikTok",
          "LinkedIn",
          "Instagram",
          "Facebook",
          "Snapchat",
          "TikTok",
          "LinkedIn",
          "Instagram",
          "TikTok",
          "Facebook",
          "Instagram",
          "YouTube",
          "TikTok",
          "LinkedIn",
          "Instagram",
          "Facebook",
          "Snapchat",
          "TikTok",
          "LinkedIn",
          "Instagram",
          "TikTok",
          "Facebook",
          "Instagram",
          "TikTok",
          "Snapchat",
          "LinkedIn",
          "Instagram",
          "YouTube",
          "TikTok",
          "LinkedIn",
          "Instagram",
          "Snapchat",
          "Facebook",
          "TikTok",
          "Instagram",
          "LinkedIn",
          "Snapchat",
          "TikTok",
          "Facebook",
          "YouTube",
          "Instagram",
          "LinkedIn",
          "TikTok",
          "Facebook",
          "LinkedIn",
          "Snapchat",
          "Instagram",
          "TikTok",
          "LinkedIn",
          "YouTube",
          "Instagram",
          "Facebook",
          "TikTok",
          "Snapchat",
          "Instagram",
          "LinkedIn",
          "TikTok",
          "Snapchat",
          "LinkedIn",
          "Instagram",
          "TikTok",
          "YouTube",
          "LinkedIn",
          "Facebook",
          "Instagram",
          "LinkedIn",
          "TikTok",
          "YouTube",
          "Snapchat",
          "LinkedIn",
          "Instagram",
          "Instagram",
          "TikTok",
          "Facebook",
          "Instagram",
          "TikTok",
          "Instagram",
          "Facebook",
          "Instagram",
          "TikTok",
          "Instagram",
          "Facebook",
          "Instagram",
          "TikTok",
          "Instagram",
          "Facebook",
          "Instagram",
          "TikTok",
          "Instagram",
          "Facebook",
          "Instagram",
          "TikTok",
          "Instagram",
          "Facebook",
          "Instagram",
          "TikTok",
          "Instagram",
          "Facebook",
          "Instagram",
          "TikTok",
          "Instagram",
          "Facebook",
          "Instagram",
          "TikTok",
          "Instagram",
          "Facebook",
          "Instagram",
          "TikTok",
          "Instagram",
          "Facebook",
          "Instagram",
          "TikTok",
          "Instagram",
          "Facebook",
          "Instagram",
          "TikTok",
          "Instagram",
          "Facebook",
          "Instagram",
          "TikTok",
          "Instagram",
          "Instagram",
          "Facebook",
          "TikTok",
          "Instagram",
          "Facebook",
          "TikTok",
          "Instagram",
          "Facebook",
          "TikTok",
          "Instagram",
          "Facebook",
          "TikTok",
          "Instagram",
          "Facebook",
          "TikTok",
          "Instagram",
          "Facebook",
          "TikTok",
          "Instagram",
          "Facebook",
          "TikTok",
          "Instagram",
          "Facebook",
          "TikTok",
          "Instagram",
          "Facebook",
          "TikTok",
          "Instagram",
          "Facebook",
          "TikTok",
          "Instagram",
          "Facebook",
          "TikTok",
          "Instagram",
          "Facebook",
          "TikTok",
          "Instagram",
          "Facebook",
          "TikTok",
          "Instagram",
          "Facebook",
          "TikTok",
          "Instagram",
          "Facebook",
          "TikTok",
          "Instagram",
          "Facebook",
          "TikTok",
          "Instagram",
          "Facebook",
          "TikTok",
          "Instagram",
          "Facebook",
          "TikTok",
          "Instagram",
          "Facebook",
          "TikTok",
          "Instagram",
          "Facebook",
          "TikTok",
          "Instagram",
          "TikTok",
          "Instagram",
          "Facebook",
          "LINE",
          "Instagram",
          "KakaoTalk",
          "VKontakte",
          "TikTok",
          "Instagram",
          "Facebook",
          "Instagram",
          "LINE",
          "TikTok",
          "KakaoTalk",
          "VKontakte",
          "Instagram",
          "Facebook",
          "Instagram",
          "Facebook",
          "LINE",
          "Instagram",
          "KakaoTalk",
          "VKontakte",
          "TikTok",
          "Instagram",
          "Facebook",
          "Instagram",
          "LINE",
          "TikTok",
          "KakaoTalk",
          "VKontakte",
          "Instagram",
          "Facebook",
          "Instagram",
          "Facebook",
          "LINE",
          "Instagram",
          "KakaoTalk",
          "VKontakte",
          "TikTok",
          "Instagram",
          "Facebook",
          "Instagram",
          "LINE",
          "TikTok",
          "KakaoTalk",
          "VKontakte",
          "Instagram",
          "Facebook",
          "Instagram",
          "Facebook",
          "LINE",
          "Instagram",
          "KakaoTalk",
          "VKontakte",
          "TikTok",
          "Instagram",
          "Facebook",
          "Instagram",
          "LINE",
          "TikTok",
          "KakaoTalk",
          "VKontakte",
          "Instagram",
          "Facebook",
          "Instagram",
          "Facebook",
          "LINE",
          "Instagram",
          "KakaoTalk",
          "VKontakte",
          "TikTok",
          "Instagram",
          "Facebook",
          "Instagram",
          "LINE",
          "TikTok",
          "KakaoTalk",
          "VKontakte",
          "Instagram",
          "Facebook",
          "Instagram",
          "Facebook",
          "LINE",
          "Instagram",
          "KakaoTalk",
          "VKontakte",
          "TikTok",
          "Instagram",
          "Facebook",
          "Instagram",
          "LINE",
          "TikTok",
          "KakaoTalk",
          "VKontakte",
          "Instagram",
          "Facebook",
          "Instagram",
          "Facebook",
          "Instagram",
          "Facebook",
          "Instagram",
          "WhatsApp",
          "Instagram",
          "Instagram",
          "TikTok",
          "WhatsApp",
          "Instagram",
          "Instagram",
          "TikTok",
          "Facebook",
          "Instagram",
          "WhatsApp",
          "Instagram",
          "TikTok",
          "Instagram",
          "WhatsApp",
          "Instagram",
          "TikTok",
          "Instagram",
          "Facebook",
          "TikTok",
          "WhatsApp",
          "Instagram",
          "Instagram",
          "TikTok",
          "WhatsApp",
          "Instagram",
          "Instagram",
          "TikTok",
          "Facebook",
          "Instagram",
          "WhatsApp",
          "Instagram",
          "TikTok",
          "Instagram",
          "WhatsApp",
          "Instagram",
          "TikTok",
          "Instagram",
          "Facebook",
          "TikTok",
          "WhatsApp",
          "Instagram",
          "Instagram",
          "TikTok",
          "WhatsApp",
          "Instagram",
          "Instagram",
          "TikTok",
          "Facebook",
          "Instagram",
          "WhatsApp",
          "Instagram",
          "TikTok",
          "Instagram",
          "WhatsApp",
          "Instagram",
          "TikTok",
          "Instagram",
          "Facebook",
          "TikTok",
          "WhatsApp",
          "Instagram",
          "Instagram",
          "TikTok",
          "WhatsApp",
          "Instagram",
          "Instagram",
          "TikTok",
          "Facebook",
          "Instagram",
          "WhatsApp",
          "Instagram",
          "TikTok",
          "Instagram",
          "WhatsApp",
          "Instagram",
          "TikTok",
          "Instagram",
          "Facebook",
          "TikTok",
          "WhatsApp",
          "Instagram",
          "Instagram",
          "TikTok",
          "WhatsApp",
          "Instagram",
          "Instagram",
          "TikTok",
          "Facebook",
          "Instagram",
          "WhatsApp",
          "Instagram",
          "TikTok",
          "Instagram",
          "WhatsApp",
          "Instagram",
          "TikTok",
          "Instagram",
          "Facebook",
          "TikTok",
          "WhatsApp",
          "Instagram",
          "Instagram",
          "TikTok",
          "WhatsApp",
          "Instagram",
          "Instagram",
          "TikTok",
          "Facebook",
          "Instagram",
          "WhatsApp",
          "Instagram",
          "TikTok",
          "Instagram",
          "WhatsApp",
          "Instagram",
          "TikTok",
          "Instagram",
          "Facebook",
          "TikTok",
          "WhatsApp",
          "Instagram",
          "Instagram",
          "TikTok",
          "WhatsApp",
          "Instagram",
          "Instagram",
          "TikTok",
          "Facebook",
          "Instagram",
          "WhatsApp",
          "Instagram",
          "TikTok",
          "Instagram",
          "WhatsApp",
          "Instagram",
          "TikTok",
          "Instagram",
          "Facebook",
          "TikTok",
          "WhatsApp",
          "Instagram",
          "Instagram",
          "TikTok",
          "WhatsApp",
          "Instagram",
          "Instagram",
          "TikTok",
          "Facebook",
          "Instagram",
          "WhatsApp",
          "Instagram",
          "TikTok",
          "Instagram",
          "WhatsApp",
          "Instagram",
          "TikTok",
          "Instagram",
          "Facebook",
          "TikTok",
          "WhatsApp",
          "Instagram",
          "Instagram",
          "TikTok",
          "WhatsApp",
          "Instagram",
          "Instagram",
          "TikTok",
          "Facebook",
          "Instagram",
          "WhatsApp",
          "Instagram",
          "TikTok",
          "Instagram",
          "WhatsApp",
          "Instagram",
          "TikTok",
          "WhatsApp",
          "WeChat",
          "Instagram",
          "Instagram",
          "TikTok",
          "WhatsApp",
          "Instagram",
          "Facebook",
          "WhatsApp",
          "Instagram",
          "Instagram",
          "WeChat",
          "TikTok",
          "Instagram",
          "TikTok",
          "WhatsApp",
          "Instagram",
          "Facebook",
          "WhatsApp",
          "TikTok",
          "WhatsApp",
          "WeChat",
          "Instagram",
          "Facebook",
          "TikTok",
          "WhatsApp",
          "Instagram",
          "Facebook",
          "WhatsApp",
          "Instagram",
          "TikTok",
          "WeChat",
          "Instagram",
          "Facebook",
          "TikTok",
          "WhatsApp",
          "Instagram",
          "Facebook",
          "WhatsApp",
          "TikTok",
          "WhatsApp",
          "WeChat",
          "Instagram",
          "Instagram",
          "TikTok",
          "WhatsApp",
          "Instagram",
          "Facebook",
          "WhatsApp",
          "Instagram",
          "TikTok",
          "WeChat",
          "Instagram",
          "Facebook",
          "TikTok",
          "WhatsApp",
          "Instagram",
          "Facebook",
          "WhatsApp",
          "TikTok",
          "WhatsApp",
          "WeChat",
          "Instagram",
          "Instagram",
          "TikTok",
          "WhatsApp",
          "Instagram",
          "Facebook",
          "WhatsApp",
          "Instagram",
          "Instagram",
          "Twitter",
          "TikTok",
          "Facebook",
          "Instagram",
          "TikTok",
          "Instagram",
          "Facebook",
          "Twitter",
          "Instagram",
          "TikTok",
          "Facebook",
          "Instagram",
          "WeChat",
          "Twitter",
          "Facebook",
          "Instagram",
          "TikTok",
          "Instagram",
          "Twitter",
          "Instagram",
          "Facebook",
          "TikTok",
          "Instagram",
          "Facebook",
          "Instagram",
          "TikTok",
          "Facebook",
          "Twitter",
          "Instagram",
          "WeChat",
          "Twitter",
          "Instagram",
          "Facebook",
          "TikTok",
          "Instagram",
          "Twitter",
          "Facebook",
          "Instagram",
          "TikTok",
          "Instagram",
          "Facebook",
          "Twitter",
          "Instagram",
          "TikTok",
          "Facebook",
          "Instagram",
          "WeChat",
          "Twitter",
          "TikTok",
          "Instagram",
          "Facebook",
          "Twitter",
          "Instagram",
          "TikTok",
          "Facebook",
          "Instagram",
          "Twitter",
          "Facebook",
          "Instagram",
          "TikTok",
          "Facebook",
          "Twitter",
          "Instagram",
          "WeChat",
          "Twitter",
          "TikTok",
          "Instagram",
          "Facebook",
          "Twitter",
          "Instagram",
          "TikTok",
          "Facebook",
          "Instagram",
          "Twitter",
          "Facebook",
          "Instagram",
          "TikTok",
          "Twitter",
          "Facebook",
          "Instagram",
          "WeChat",
          "Twitter",
          "TikTok",
          "Instagram",
          "Facebook",
          "Twitter",
          "Instagram",
          "TikTok",
          "Facebook",
          "Instagram",
          "Twitter",
          "TikTok",
          "Facebook",
          "Instagram",
          "Twitter",
          "TikTok",
          "Instagram",
          "WeChat",
          "Twitter",
          "Facebook",
          "Instagram",
          "TikTok",
          "Twitter",
          "Instagram",
          "Facebook",
          "TikTok",
          "Instagram",
          "Twitter",
          "Facebook",
          "Instagram",
          "TikTok",
          "Twitter",
          "Facebook",
          "Instagram",
          "WeChat",
          "Twitter",
          "TikTok",
          "Instagram",
          "Facebook",
          "Twitter",
          "Instagram",
          "TikTok",
          "Facebook",
          "Instagram",
          "Twitter",
          "TikTok",
          "Facebook",
          "Instagram",
          "Twitter",
          "TikTok",
          "Instagram",
          "WeChat",
          "Twitter",
          "Facebook"
         ],
         "legendgroup": "",
         "name": "",
         "showlegend": true,
         "type": "pie"
        }
       ],
       "layout": {
        "legend": {
         "tracegroupgap": 0
        },
        "template": {
         "data": {
          "bar": [
           {
            "error_x": {
             "color": "#2a3f5f"
            },
            "error_y": {
             "color": "#2a3f5f"
            },
            "marker": {
             "line": {
              "color": "#E5ECF6",
              "width": 0.5
             },
             "pattern": {
              "fillmode": "overlay",
              "size": 10,
              "solidity": 0.2
             }
            },
            "type": "bar"
           }
          ],
          "barpolar": [
           {
            "marker": {
             "line": {
              "color": "#E5ECF6",
              "width": 0.5
             },
             "pattern": {
              "fillmode": "overlay",
              "size": 10,
              "solidity": 0.2
             }
            },
            "type": "barpolar"
           }
          ],
          "carpet": [
           {
            "aaxis": {
             "endlinecolor": "#2a3f5f",
             "gridcolor": "white",
             "linecolor": "white",
             "minorgridcolor": "white",
             "startlinecolor": "#2a3f5f"
            },
            "baxis": {
             "endlinecolor": "#2a3f5f",
             "gridcolor": "white",
             "linecolor": "white",
             "minorgridcolor": "white",
             "startlinecolor": "#2a3f5f"
            },
            "type": "carpet"
           }
          ],
          "choropleth": [
           {
            "colorbar": {
             "outlinewidth": 0,
             "ticks": ""
            },
            "type": "choropleth"
           }
          ],
          "contour": [
           {
            "colorbar": {
             "outlinewidth": 0,
             "ticks": ""
            },
            "colorscale": [
             [
              0,
              "#0d0887"
             ],
             [
              0.1111111111111111,
              "#46039f"
             ],
             [
              0.2222222222222222,
              "#7201a8"
             ],
             [
              0.3333333333333333,
              "#9c179e"
             ],
             [
              0.4444444444444444,
              "#bd3786"
             ],
             [
              0.5555555555555556,
              "#d8576b"
             ],
             [
              0.6666666666666666,
              "#ed7953"
             ],
             [
              0.7777777777777778,
              "#fb9f3a"
             ],
             [
              0.8888888888888888,
              "#fdca26"
             ],
             [
              1,
              "#f0f921"
             ]
            ],
            "type": "contour"
           }
          ],
          "contourcarpet": [
           {
            "colorbar": {
             "outlinewidth": 0,
             "ticks": ""
            },
            "type": "contourcarpet"
           }
          ],
          "heatmap": [
           {
            "colorbar": {
             "outlinewidth": 0,
             "ticks": ""
            },
            "colorscale": [
             [
              0,
              "#0d0887"
             ],
             [
              0.1111111111111111,
              "#46039f"
             ],
             [
              0.2222222222222222,
              "#7201a8"
             ],
             [
              0.3333333333333333,
              "#9c179e"
             ],
             [
              0.4444444444444444,
              "#bd3786"
             ],
             [
              0.5555555555555556,
              "#d8576b"
             ],
             [
              0.6666666666666666,
              "#ed7953"
             ],
             [
              0.7777777777777778,
              "#fb9f3a"
             ],
             [
              0.8888888888888888,
              "#fdca26"
             ],
             [
              1,
              "#f0f921"
             ]
            ],
            "type": "heatmap"
           }
          ],
          "histogram": [
           {
            "marker": {
             "pattern": {
              "fillmode": "overlay",
              "size": 10,
              "solidity": 0.2
             }
            },
            "type": "histogram"
           }
          ],
          "histogram2d": [
           {
            "colorbar": {
             "outlinewidth": 0,
             "ticks": ""
            },
            "colorscale": [
             [
              0,
              "#0d0887"
             ],
             [
              0.1111111111111111,
              "#46039f"
             ],
             [
              0.2222222222222222,
              "#7201a8"
             ],
             [
              0.3333333333333333,
              "#9c179e"
             ],
             [
              0.4444444444444444,
              "#bd3786"
             ],
             [
              0.5555555555555556,
              "#d8576b"
             ],
             [
              0.6666666666666666,
              "#ed7953"
             ],
             [
              0.7777777777777778,
              "#fb9f3a"
             ],
             [
              0.8888888888888888,
              "#fdca26"
             ],
             [
              1,
              "#f0f921"
             ]
            ],
            "type": "histogram2d"
           }
          ],
          "histogram2dcontour": [
           {
            "colorbar": {
             "outlinewidth": 0,
             "ticks": ""
            },
            "colorscale": [
             [
              0,
              "#0d0887"
             ],
             [
              0.1111111111111111,
              "#46039f"
             ],
             [
              0.2222222222222222,
              "#7201a8"
             ],
             [
              0.3333333333333333,
              "#9c179e"
             ],
             [
              0.4444444444444444,
              "#bd3786"
             ],
             [
              0.5555555555555556,
              "#d8576b"
             ],
             [
              0.6666666666666666,
              "#ed7953"
             ],
             [
              0.7777777777777778,
              "#fb9f3a"
             ],
             [
              0.8888888888888888,
              "#fdca26"
             ],
             [
              1,
              "#f0f921"
             ]
            ],
            "type": "histogram2dcontour"
           }
          ],
          "mesh3d": [
           {
            "colorbar": {
             "outlinewidth": 0,
             "ticks": ""
            },
            "type": "mesh3d"
           }
          ],
          "parcoords": [
           {
            "line": {
             "colorbar": {
              "outlinewidth": 0,
              "ticks": ""
             }
            },
            "type": "parcoords"
           }
          ],
          "pie": [
           {
            "automargin": true,
            "type": "pie"
           }
          ],
          "scatter": [
           {
            "fillpattern": {
             "fillmode": "overlay",
             "size": 10,
             "solidity": 0.2
            },
            "type": "scatter"
           }
          ],
          "scatter3d": [
           {
            "line": {
             "colorbar": {
              "outlinewidth": 0,
              "ticks": ""
             }
            },
            "marker": {
             "colorbar": {
              "outlinewidth": 0,
              "ticks": ""
             }
            },
            "type": "scatter3d"
           }
          ],
          "scattercarpet": [
           {
            "marker": {
             "colorbar": {
              "outlinewidth": 0,
              "ticks": ""
             }
            },
            "type": "scattercarpet"
           }
          ],
          "scattergeo": [
           {
            "marker": {
             "colorbar": {
              "outlinewidth": 0,
              "ticks": ""
             }
            },
            "type": "scattergeo"
           }
          ],
          "scattergl": [
           {
            "marker": {
             "colorbar": {
              "outlinewidth": 0,
              "ticks": ""
             }
            },
            "type": "scattergl"
           }
          ],
          "scattermap": [
           {
            "marker": {
             "colorbar": {
              "outlinewidth": 0,
              "ticks": ""
             }
            },
            "type": "scattermap"
           }
          ],
          "scattermapbox": [
           {
            "marker": {
             "colorbar": {
              "outlinewidth": 0,
              "ticks": ""
             }
            },
            "type": "scattermapbox"
           }
          ],
          "scatterpolar": [
           {
            "marker": {
             "colorbar": {
              "outlinewidth": 0,
              "ticks": ""
             }
            },
            "type": "scatterpolar"
           }
          ],
          "scatterpolargl": [
           {
            "marker": {
             "colorbar": {
              "outlinewidth": 0,
              "ticks": ""
             }
            },
            "type": "scatterpolargl"
           }
          ],
          "scatterternary": [
           {
            "marker": {
             "colorbar": {
              "outlinewidth": 0,
              "ticks": ""
             }
            },
            "type": "scatterternary"
           }
          ],
          "surface": [
           {
            "colorbar": {
             "outlinewidth": 0,
             "ticks": ""
            },
            "colorscale": [
             [
              0,
              "#0d0887"
             ],
             [
              0.1111111111111111,
              "#46039f"
             ],
             [
              0.2222222222222222,
              "#7201a8"
             ],
             [
              0.3333333333333333,
              "#9c179e"
             ],
             [
              0.4444444444444444,
              "#bd3786"
             ],
             [
              0.5555555555555556,
              "#d8576b"
             ],
             [
              0.6666666666666666,
              "#ed7953"
             ],
             [
              0.7777777777777778,
              "#fb9f3a"
             ],
             [
              0.8888888888888888,
              "#fdca26"
             ],
             [
              1,
              "#f0f921"
             ]
            ],
            "type": "surface"
           }
          ],
          "table": [
           {
            "cells": {
             "fill": {
              "color": "#EBF0F8"
             },
             "line": {
              "color": "white"
             }
            },
            "header": {
             "fill": {
              "color": "#C8D4E3"
             },
             "line": {
              "color": "white"
             }
            },
            "type": "table"
           }
          ]
         },
         "layout": {
          "annotationdefaults": {
           "arrowcolor": "#2a3f5f",
           "arrowhead": 0,
           "arrowwidth": 1
          },
          "autotypenumbers": "strict",
          "coloraxis": {
           "colorbar": {
            "outlinewidth": 0,
            "ticks": ""
           }
          },
          "colorscale": {
           "diverging": [
            [
             0,
             "#8e0152"
            ],
            [
             0.1,
             "#c51b7d"
            ],
            [
             0.2,
             "#de77ae"
            ],
            [
             0.3,
             "#f1b6da"
            ],
            [
             0.4,
             "#fde0ef"
            ],
            [
             0.5,
             "#f7f7f7"
            ],
            [
             0.6,
             "#e6f5d0"
            ],
            [
             0.7,
             "#b8e186"
            ],
            [
             0.8,
             "#7fbc41"
            ],
            [
             0.9,
             "#4d9221"
            ],
            [
             1,
             "#276419"
            ]
           ],
           "sequential": [
            [
             0,
             "#0d0887"
            ],
            [
             0.1111111111111111,
             "#46039f"
            ],
            [
             0.2222222222222222,
             "#7201a8"
            ],
            [
             0.3333333333333333,
             "#9c179e"
            ],
            [
             0.4444444444444444,
             "#bd3786"
            ],
            [
             0.5555555555555556,
             "#d8576b"
            ],
            [
             0.6666666666666666,
             "#ed7953"
            ],
            [
             0.7777777777777778,
             "#fb9f3a"
            ],
            [
             0.8888888888888888,
             "#fdca26"
            ],
            [
             1,
             "#f0f921"
            ]
           ],
           "sequentialminus": [
            [
             0,
             "#0d0887"
            ],
            [
             0.1111111111111111,
             "#46039f"
            ],
            [
             0.2222222222222222,
             "#7201a8"
            ],
            [
             0.3333333333333333,
             "#9c179e"
            ],
            [
             0.4444444444444444,
             "#bd3786"
            ],
            [
             0.5555555555555556,
             "#d8576b"
            ],
            [
             0.6666666666666666,
             "#ed7953"
            ],
            [
             0.7777777777777778,
             "#fb9f3a"
            ],
            [
             0.8888888888888888,
             "#fdca26"
            ],
            [
             1,
             "#f0f921"
            ]
           ]
          },
          "colorway": [
           "#636efa",
           "#EF553B",
           "#00cc96",
           "#ab63fa",
           "#FFA15A",
           "#19d3f3",
           "#FF6692",
           "#B6E880",
           "#FF97FF",
           "#FECB52"
          ],
          "font": {
           "color": "#2a3f5f"
          },
          "geo": {
           "bgcolor": "white",
           "lakecolor": "white",
           "landcolor": "#E5ECF6",
           "showlakes": true,
           "showland": true,
           "subunitcolor": "white"
          },
          "hoverlabel": {
           "align": "left"
          },
          "hovermode": "closest",
          "mapbox": {
           "style": "light"
          },
          "paper_bgcolor": "white",
          "plot_bgcolor": "#E5ECF6",
          "polar": {
           "angularaxis": {
            "gridcolor": "white",
            "linecolor": "white",
            "ticks": ""
           },
           "bgcolor": "#E5ECF6",
           "radialaxis": {
            "gridcolor": "white",
            "linecolor": "white",
            "ticks": ""
           }
          },
          "scene": {
           "xaxis": {
            "backgroundcolor": "#E5ECF6",
            "gridcolor": "white",
            "gridwidth": 2,
            "linecolor": "white",
            "showbackground": true,
            "ticks": "",
            "zerolinecolor": "white"
           },
           "yaxis": {
            "backgroundcolor": "#E5ECF6",
            "gridcolor": "white",
            "gridwidth": 2,
            "linecolor": "white",
            "showbackground": true,
            "ticks": "",
            "zerolinecolor": "white"
           },
           "zaxis": {
            "backgroundcolor": "#E5ECF6",
            "gridcolor": "white",
            "gridwidth": 2,
            "linecolor": "white",
            "showbackground": true,
            "ticks": "",
            "zerolinecolor": "white"
           }
          },
          "shapedefaults": {
           "line": {
            "color": "#2a3f5f"
           }
          },
          "ternary": {
           "aaxis": {
            "gridcolor": "white",
            "linecolor": "white",
            "ticks": ""
           },
           "baxis": {
            "gridcolor": "white",
            "linecolor": "white",
            "ticks": ""
           },
           "bgcolor": "#E5ECF6",
           "caxis": {
            "gridcolor": "white",
            "linecolor": "white",
            "ticks": ""
           }
          },
          "title": {
           "x": 0.05
          },
          "xaxis": {
           "automargin": true,
           "gridcolor": "white",
           "linecolor": "white",
           "ticks": "",
           "title": {
            "standoff": 15
           },
           "zerolinecolor": "white",
           "zerolinewidth": 2
          },
          "yaxis": {
           "automargin": true,
           "gridcolor": "white",
           "linecolor": "white",
           "ticks": "",
           "title": {
            "standoff": 15
           },
           "zerolinecolor": "white",
           "zerolinewidth": 2
          }
         }
        },
        "title": {
         "text": "Distribution of Most Used Platforms"
        }
       }
      }
     },
     "metadata": {},
     "output_type": "display_data"
    }
   ],
   "source": [
    "fig3 = px.pie(df, names='Most_Used_Platform', title='Distribution of Most Used Platforms')\n",
    "fig3.show()"
   ]
  },
  {
   "cell_type": "markdown",
   "id": "86b0c118",
   "metadata": {},
   "source": [
    "# 📉 Distribution of Sleep Hours Per Night  \n",
    "Plots a histogram to visualize how sleep hours are distributed among students."
   ]
  },
  {
   "cell_type": "code",
   "execution_count": 9,
   "id": "b8f7f5e2",
   "metadata": {},
   "outputs": [
    {
     "data": {
      "application/vnd.plotly.v1+json": {
       "config": {
        "plotlyServerURL": "https://plot.ly"
       },
       "data": [
        {
         "bingroup": "x",
         "histfunc": "sum",
         "hovertemplate": "Sleep_Hours_Per_Night=%{x}<br>sum of Mental_Health_Score=%{y}<extra></extra>",
         "legendgroup": "",
         "marker": {
          "color": "#636efa",
          "pattern": {
           "shape": ""
          }
         },
         "name": "",
         "orientation": "v",
         "showlegend": false,
         "type": "histogram",
         "x": {
          "bdata": "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",
          "dtype": "f8"
         },
         "xaxis": "x",
         "y": {
          "bdata": "BggFBwYECQYHBwUGCAUHBggFBwYFCAYFBwUHBggFBwYFCAYFBwUHBggFBwYFCAYFBwUHBggFBwYFCAYFBwUGBAgGBwUIBgUHBgUIBgUHBgUIBgcIBQYFCAYFBwYHBQgGBQgGBQUIBgUHBgcFCAYFBgcFBggFBgcFBggFBgcFBggFBgcFBggFBgcFBggFBgcFBggFBgcFBggFBgcFBggFBgUHBgUHBgUHBgUHBgUHBgUHBgUHBgUHBgUHBgUHBgUHBgUHBgUHBgUHBgUHBgUHBgUHBgUHBgUHBgUHBgUGCAcIBgYHBAYHCAgFBgcEBgcICAUGBwQGBwgIBQYHBAYHCAgFBgcEBgcICAUGBwQGBwgIBQYHBAYHCAgFBgcEBgcICAUGBwQGBwgIBQYHBAYHCAgFBgcEBgcICAUGBwQGBwgGCAcFCAYFBgcGBggHBQgGBQYHBgYIBwUIBgUGBwYGCAcFCAYFBgcGBggHBQgGBQYHBgYIBwUIBgUGBwYGCAcFCAYFBgcGBggHBQgGBQYHBgYIBwUIBgUGBwYGCAcFCAYFBgcGBggHBQgGBQYHBgYIBwUIBgUGBwYGCAcFCAYFBgcGBggHBQgGBQYHBgYIBwUIBgUGBwYGCAcFCAYFBgcGBggHBQgGBQYHBgYIBwUIBgUGBwYGBwgHBgYFBwUHBgcIBwYGBQcFBwYHCAcGBgUHBQcGBwgHBgYFBwUHBgcIBwYGBQcFBwYHCAcGBgUHBQcGBwgHBgYFBwUHBQgGBAcFBgUHBgUHBQYIBQcFBwYEBwUGBQYHBQcEBggFBwUHBgQHBQYFBwYFBwQGCAUHBQcGBAcFBgUHBgUHBAYIBQcFBwYEBwUGBQcGBQcEBggFBwUHBgQHBQYFBwYFBwQGCAUHBQcGBAcFBgUHBgUHBAYIBQcFBwYEBwUGBQcGBQcEBggF",
          "dtype": "i1"
         },
         "yaxis": "y"
        }
       ],
       "layout": {
        "barmode": "relative",
        "legend": {
         "tracegroupgap": 0
        },
        "template": {
         "data": {
          "bar": [
           {
            "error_x": {
             "color": "#2a3f5f"
            },
            "error_y": {
             "color": "#2a3f5f"
            },
            "marker": {
             "line": {
              "color": "#E5ECF6",
              "width": 0.5
             },
             "pattern": {
              "fillmode": "overlay",
              "size": 10,
              "solidity": 0.2
             }
            },
            "type": "bar"
           }
          ],
          "barpolar": [
           {
            "marker": {
             "line": {
              "color": "#E5ECF6",
              "width": 0.5
             },
             "pattern": {
              "fillmode": "overlay",
              "size": 10,
              "solidity": 0.2
             }
            },
            "type": "barpolar"
           }
          ],
          "carpet": [
           {
            "aaxis": {
             "endlinecolor": "#2a3f5f",
             "gridcolor": "white",
             "linecolor": "white",
             "minorgridcolor": "white",
             "startlinecolor": "#2a3f5f"
            },
            "baxis": {
             "endlinecolor": "#2a3f5f",
             "gridcolor": "white",
             "linecolor": "white",
             "minorgridcolor": "white",
             "startlinecolor": "#2a3f5f"
            },
            "type": "carpet"
           }
          ],
          "choropleth": [
           {
            "colorbar": {
             "outlinewidth": 0,
             "ticks": ""
            },
            "type": "choropleth"
           }
          ],
          "contour": [
           {
            "colorbar": {
             "outlinewidth": 0,
             "ticks": ""
            },
            "colorscale": [
             [
              0,
              "#0d0887"
             ],
             [
              0.1111111111111111,
              "#46039f"
             ],
             [
              0.2222222222222222,
              "#7201a8"
             ],
             [
              0.3333333333333333,
              "#9c179e"
             ],
             [
              0.4444444444444444,
              "#bd3786"
             ],
             [
              0.5555555555555556,
              "#d8576b"
             ],
             [
              0.6666666666666666,
              "#ed7953"
             ],
             [
              0.7777777777777778,
              "#fb9f3a"
             ],
             [
              0.8888888888888888,
              "#fdca26"
             ],
             [
              1,
              "#f0f921"
             ]
            ],
            "type": "contour"
           }
          ],
          "contourcarpet": [
           {
            "colorbar": {
             "outlinewidth": 0,
             "ticks": ""
            },
            "type": "contourcarpet"
           }
          ],
          "heatmap": [
           {
            "colorbar": {
             "outlinewidth": 0,
             "ticks": ""
            },
            "colorscale": [
             [
              0,
              "#0d0887"
             ],
             [
              0.1111111111111111,
              "#46039f"
             ],
             [
              0.2222222222222222,
              "#7201a8"
             ],
             [
              0.3333333333333333,
              "#9c179e"
             ],
             [
              0.4444444444444444,
              "#bd3786"
             ],
             [
              0.5555555555555556,
              "#d8576b"
             ],
             [
              0.6666666666666666,
              "#ed7953"
             ],
             [
              0.7777777777777778,
              "#fb9f3a"
             ],
             [
              0.8888888888888888,
              "#fdca26"
             ],
             [
              1,
              "#f0f921"
             ]
            ],
            "type": "heatmap"
           }
          ],
          "histogram": [
           {
            "marker": {
             "pattern": {
              "fillmode": "overlay",
              "size": 10,
              "solidity": 0.2
             }
            },
            "type": "histogram"
           }
          ],
          "histogram2d": [
           {
            "colorbar": {
             "outlinewidth": 0,
             "ticks": ""
            },
            "colorscale": [
             [
              0,
              "#0d0887"
             ],
             [
              0.1111111111111111,
              "#46039f"
             ],
             [
              0.2222222222222222,
              "#7201a8"
             ],
             [
              0.3333333333333333,
              "#9c179e"
             ],
             [
              0.4444444444444444,
              "#bd3786"
             ],
             [
              0.5555555555555556,
              "#d8576b"
             ],
             [
              0.6666666666666666,
              "#ed7953"
             ],
             [
              0.7777777777777778,
              "#fb9f3a"
             ],
             [
              0.8888888888888888,
              "#fdca26"
             ],
             [
              1,
              "#f0f921"
             ]
            ],
            "type": "histogram2d"
           }
          ],
          "histogram2dcontour": [
           {
            "colorbar": {
             "outlinewidth": 0,
             "ticks": ""
            },
            "colorscale": [
             [
              0,
              "#0d0887"
             ],
             [
              0.1111111111111111,
              "#46039f"
             ],
             [
              0.2222222222222222,
              "#7201a8"
             ],
             [
              0.3333333333333333,
              "#9c179e"
             ],
             [
              0.4444444444444444,
              "#bd3786"
             ],
             [
              0.5555555555555556,
              "#d8576b"
             ],
             [
              0.6666666666666666,
              "#ed7953"
             ],
             [
              0.7777777777777778,
              "#fb9f3a"
             ],
             [
              0.8888888888888888,
              "#fdca26"
             ],
             [
              1,
              "#f0f921"
             ]
            ],
            "type": "histogram2dcontour"
           }
          ],
          "mesh3d": [
           {
            "colorbar": {
             "outlinewidth": 0,
             "ticks": ""
            },
            "type": "mesh3d"
           }
          ],
          "parcoords": [
           {
            "line": {
             "colorbar": {
              "outlinewidth": 0,
              "ticks": ""
             }
            },
            "type": "parcoords"
           }
          ],
          "pie": [
           {
            "automargin": true,
            "type": "pie"
           }
          ],
          "scatter": [
           {
            "fillpattern": {
             "fillmode": "overlay",
             "size": 10,
             "solidity": 0.2
            },
            "type": "scatter"
           }
          ],
          "scatter3d": [
           {
            "line": {
             "colorbar": {
              "outlinewidth": 0,
              "ticks": ""
             }
            },
            "marker": {
             "colorbar": {
              "outlinewidth": 0,
              "ticks": ""
             }
            },
            "type": "scatter3d"
           }
          ],
          "scattercarpet": [
           {
            "marker": {
             "colorbar": {
              "outlinewidth": 0,
              "ticks": ""
             }
            },
            "type": "scattercarpet"
           }
          ],
          "scattergeo": [
           {
            "marker": {
             "colorbar": {
              "outlinewidth": 0,
              "ticks": ""
             }
            },
            "type": "scattergeo"
           }
          ],
          "scattergl": [
           {
            "marker": {
             "colorbar": {
              "outlinewidth": 0,
              "ticks": ""
             }
            },
            "type": "scattergl"
           }
          ],
          "scattermap": [
           {
            "marker": {
             "colorbar": {
              "outlinewidth": 0,
              "ticks": ""
             }
            },
            "type": "scattermap"
           }
          ],
          "scattermapbox": [
           {
            "marker": {
             "colorbar": {
              "outlinewidth": 0,
              "ticks": ""
             }
            },
            "type": "scattermapbox"
           }
          ],
          "scatterpolar": [
           {
            "marker": {
             "colorbar": {
              "outlinewidth": 0,
              "ticks": ""
             }
            },
            "type": "scatterpolar"
           }
          ],
          "scatterpolargl": [
           {
            "marker": {
             "colorbar": {
              "outlinewidth": 0,
              "ticks": ""
             }
            },
            "type": "scatterpolargl"
           }
          ],
          "scatterternary": [
           {
            "marker": {
             "colorbar": {
              "outlinewidth": 0,
              "ticks": ""
             }
            },
            "type": "scatterternary"
           }
          ],
          "surface": [
           {
            "colorbar": {
             "outlinewidth": 0,
             "ticks": ""
            },
            "colorscale": [
             [
              0,
              "#0d0887"
             ],
             [
              0.1111111111111111,
              "#46039f"
             ],
             [
              0.2222222222222222,
              "#7201a8"
             ],
             [
              0.3333333333333333,
              "#9c179e"
             ],
             [
              0.4444444444444444,
              "#bd3786"
             ],
             [
              0.5555555555555556,
              "#d8576b"
             ],
             [
              0.6666666666666666,
              "#ed7953"
             ],
             [
              0.7777777777777778,
              "#fb9f3a"
             ],
             [
              0.8888888888888888,
              "#fdca26"
             ],
             [
              1,
              "#f0f921"
             ]
            ],
            "type": "surface"
           }
          ],
          "table": [
           {
            "cells": {
             "fill": {
              "color": "#EBF0F8"
             },
             "line": {
              "color": "white"
             }
            },
            "header": {
             "fill": {
              "color": "#C8D4E3"
             },
             "line": {
              "color": "white"
             }
            },
            "type": "table"
           }
          ]
         },
         "layout": {
          "annotationdefaults": {
           "arrowcolor": "#2a3f5f",
           "arrowhead": 0,
           "arrowwidth": 1
          },
          "autotypenumbers": "strict",
          "coloraxis": {
           "colorbar": {
            "outlinewidth": 0,
            "ticks": ""
           }
          },
          "colorscale": {
           "diverging": [
            [
             0,
             "#8e0152"
            ],
            [
             0.1,
             "#c51b7d"
            ],
            [
             0.2,
             "#de77ae"
            ],
            [
             0.3,
             "#f1b6da"
            ],
            [
             0.4,
             "#fde0ef"
            ],
            [
             0.5,
             "#f7f7f7"
            ],
            [
             0.6,
             "#e6f5d0"
            ],
            [
             0.7,
             "#b8e186"
            ],
            [
             0.8,
             "#7fbc41"
            ],
            [
             0.9,
             "#4d9221"
            ],
            [
             1,
             "#276419"
            ]
           ],
           "sequential": [
            [
             0,
             "#0d0887"
            ],
            [
             0.1111111111111111,
             "#46039f"
            ],
            [
             0.2222222222222222,
             "#7201a8"
            ],
            [
             0.3333333333333333,
             "#9c179e"
            ],
            [
             0.4444444444444444,
             "#bd3786"
            ],
            [
             0.5555555555555556,
             "#d8576b"
            ],
            [
             0.6666666666666666,
             "#ed7953"
            ],
            [
             0.7777777777777778,
             "#fb9f3a"
            ],
            [
             0.8888888888888888,
             "#fdca26"
            ],
            [
             1,
             "#f0f921"
            ]
           ],
           "sequentialminus": [
            [
             0,
             "#0d0887"
            ],
            [
             0.1111111111111111,
             "#46039f"
            ],
            [
             0.2222222222222222,
             "#7201a8"
            ],
            [
             0.3333333333333333,
             "#9c179e"
            ],
            [
             0.4444444444444444,
             "#bd3786"
            ],
            [
             0.5555555555555556,
             "#d8576b"
            ],
            [
             0.6666666666666666,
             "#ed7953"
            ],
            [
             0.7777777777777778,
             "#fb9f3a"
            ],
            [
             0.8888888888888888,
             "#fdca26"
            ],
            [
             1,
             "#f0f921"
            ]
           ]
          },
          "colorway": [
           "#636efa",
           "#EF553B",
           "#00cc96",
           "#ab63fa",
           "#FFA15A",
           "#19d3f3",
           "#FF6692",
           "#B6E880",
           "#FF97FF",
           "#FECB52"
          ],
          "font": {
           "color": "#2a3f5f"
          },
          "geo": {
           "bgcolor": "white",
           "lakecolor": "white",
           "landcolor": "#E5ECF6",
           "showlakes": true,
           "showland": true,
           "subunitcolor": "white"
          },
          "hoverlabel": {
           "align": "left"
          },
          "hovermode": "closest",
          "mapbox": {
           "style": "light"
          },
          "paper_bgcolor": "white",
          "plot_bgcolor": "#E5ECF6",
          "polar": {
           "angularaxis": {
            "gridcolor": "white",
            "linecolor": "white",
            "ticks": ""
           },
           "bgcolor": "#E5ECF6",
           "radialaxis": {
            "gridcolor": "white",
            "linecolor": "white",
            "ticks": ""
           }
          },
          "scene": {
           "xaxis": {
            "backgroundcolor": "#E5ECF6",
            "gridcolor": "white",
            "gridwidth": 2,
            "linecolor": "white",
            "showbackground": true,
            "ticks": "",
            "zerolinecolor": "white"
           },
           "yaxis": {
            "backgroundcolor": "#E5ECF6",
            "gridcolor": "white",
            "gridwidth": 2,
            "linecolor": "white",
            "showbackground": true,
            "ticks": "",
            "zerolinecolor": "white"
           },
           "zaxis": {
            "backgroundcolor": "#E5ECF6",
            "gridcolor": "white",
            "gridwidth": 2,
            "linecolor": "white",
            "showbackground": true,
            "ticks": "",
            "zerolinecolor": "white"
           }
          },
          "shapedefaults": {
           "line": {
            "color": "#2a3f5f"
           }
          },
          "ternary": {
           "aaxis": {
            "gridcolor": "white",
            "linecolor": "white",
            "ticks": ""
           },
           "baxis": {
            "gridcolor": "white",
            "linecolor": "white",
            "ticks": ""
           },
           "bgcolor": "#E5ECF6",
           "caxis": {
            "gridcolor": "white",
            "linecolor": "white",
            "ticks": ""
           }
          },
          "title": {
           "x": 0.05
          },
          "xaxis": {
           "automargin": true,
           "gridcolor": "white",
           "linecolor": "white",
           "ticks": "",
           "title": {
            "standoff": 15
           },
           "zerolinecolor": "white",
           "zerolinewidth": 2
          },
          "yaxis": {
           "automargin": true,
           "gridcolor": "white",
           "linecolor": "white",
           "ticks": "",
           "title": {
            "standoff": 15
           },
           "zerolinecolor": "white",
           "zerolinewidth": 2
          }
         }
        },
        "title": {
         "text": "Average Daily Usage Hours by Academic Level"
        },
        "xaxis": {
         "anchor": "y",
         "domain": [
          0,
          1
         ],
         "title": {
          "text": "Sleep_Hours_Per_Night"
         }
        },
        "yaxis": {
         "anchor": "x",
         "domain": [
          0,
          1
         ],
         "title": {
          "text": "sum of Mental_Health_Score"
         }
        }
       }
      }
     },
     "metadata": {},
     "output_type": "display_data"
    }
   ],
   "source": [
    "fig4 = px.histogram(df, x='Sleep_Hours_Per_Night', y='Mental_Health_Score', title='Average Daily Usage Hours by Academic Level')\n",
    "fig4.show()"
   ]
  },
  {
   "cell_type": "markdown",
   "id": "827af4d2",
   "metadata": {},
   "source": [
    "# 🔵 Addicted Score vs Mental Health Score  \n",
    "Creates a scatter plot to observe any relationship between addiction and mental health scores."
   ]
  },
  {
   "cell_type": "code",
   "execution_count": 10,
   "id": "db10a687",
   "metadata": {},
   "outputs": [
    {
     "data": {
      "application/vnd.plotly.v1+json": {
       "config": {
        "plotlyServerURL": "https://plot.ly"
       },
       "data": [
        {
         "hovertemplate": "Affects_Academic_Performance=Yes<br>Addicted_Score=%{x}<br>Mental_Health_Score=%{y}<extra></extra>",
         "legendgroup": "Yes",
         "marker": {
          "color": "#636efa",
          "symbol": "circle"
         },
         "mode": "markers",
         "name": "Yes",
         "orientation": "v",
         "showlegend": true,
         "type": "scatter",
         "x": {
          "bdata": "CAkHCQgHCAkHCAcIBwgJBwgHCAcICQcIBwgHCAkHCAcIBwgIBwkHCAcIBwgHCAcJBwgHCAcJBwgHCAcICQcIBwgHCAcIBwgHCAcIBwgHCAcIBwgHCAcIBwgHCAcIBwgHCAcIBwcIBwgHCAcIBwgHCAcIBwgHCAcIBwgHCAcIBwgHCAcIBwgHCAcIBwgJBwcGCQcIBgkHBwYJBwgGCQcHBgkHCAYJBwcGCQcIBgkHBwYJBwgGCQcHBgkHCAYJBwcGCAcJBwcHBggHCQcHBwYIBwkHBwcGCAcJBwcHBggHCQcHBwYIBwkHBwcGCAcJBwcHBggHCQcHBwYIBwkHBwcGCAcJBwcHBggHCQcHBwYIBwkHBwcGCAcJBwcHBggHCQcHBwYIBwkHBwcGCAcJBwcHBggHCQcHBwYIBwkHBwcGBwcICAYHBgcHCAgGBwYHBwgIBgcGBwcICAYHBgcHCAgGBwYHBwgIBgcGBwcICAYHCAkIBwgGCAgHCAgHCQgHCAcICAcICAcJCAcIBwgJBwgIBwkIBwgHCAkHCAgHCQgHCAcICQcICAcJCAcIBwgJBwgIBwkIBwgHCAkHCAgHCQgHCAcICQcI",
          "dtype": "i1"
         },
         "xaxis": "x",
         "y": {
          "bdata": "BgUGBAYFBgUGBQYFBgUFBgUGBQYFBQYFBgUGBQUGBQYFBgUFBgQGBQYFBgUGBQYFBgUGBQYFBgUGBQYFBQYFBgUGBQYFBgUGBQYFBgUGBQYFBgUGBQYFBgUGBQYFBgUGBQYFBgUGBQYFBgUGBQYFBgUGBQYFBgUGBQYFBgUGBQYFBgUGBQYFBgUGBQYFBgYGBAYFBgQGBQYEBgUGBAYFBgQGBQYEBgUGBAYFBgQGBQYEBgUGBAYFBgQGBQYEBgYHBQYFBgYGBwUGBQYGBgcFBgUGBgYHBQYFBgYGBwUGBQYGBgcFBgUGBgYHBQYFBgYGBwUGBQYGBgcFBgUGBgYHBQYFBgYGBwUGBQYGBgcFBgUGBgYHBQYFBgYGBwUGBQYGBgcFBgUGBgYHBQYFBgYGBwUGBQYGBgcFBgUGBgYHBgYFBQcGBwYGBQUHBgcGBgUFBwYHBgYFBQcGBwYGBQUHBgcGBgUFBwYHBgYFBQcFBgQFBgUGBQUGBQUGBAUGBQYFBAYFBQYEBQYFBgUEBgUFBgQFBgUGBQQGBQUGBAUGBQYFBAYFBQYEBQYFBgUEBgUFBgQFBgUGBQQGBQUGBAUGBQYFBAYF",
          "dtype": "i1"
         },
         "yaxis": "y"
        },
        {
         "hovertemplate": "Affects_Academic_Performance=No<br>Addicted_Score=%{x}<br>Mental_Health_Score=%{y}<extra></extra>",
         "legendgroup": "No",
         "marker": {
          "color": "#EF553B",
          "symbol": "circle"
         },
         "mode": "markers",
         "name": "No",
         "orientation": "v",
         "showlegend": true,
         "type": "scatter",
         "x": {
          "bdata": "AwQCBQQEBQMFBAUFAwUEBQYEBQQFBgQFBAUDBgQFBAUEBgQEBQYEBAQFBgQFBQUFBQUFBQUFBQUFBQUFBgUGBQYFBgUGBQYFBgUGBQYFBgUFBAMFBQQDBQUEAwUFBAMFBQQDBQUEAwUFBAMFBQQDBQUEAwUFBAMFBQQDBQUEAwUFBAQEBQQEBQQEBQQEBQQEBQQEBQQEBQQEBQQEBQQEBQQEBQQEBQQEBQQEBQQEBQQEBQQEBQQEBQUEBQUEBQUEBQUEBQUEBQUEBQUEBQQFBQUEBQUFBQUEBQUFBQUEBQUFBQUEBQUFBQUEBQUFBQUEBQUFBQUEBQUFBQUE",
          "dtype": "i1"
         },
         "xaxis": "x",
         "y": {
          "bdata": "CAcJBwcIBwgHCAcHCAcIBwcIBwgHBwgHCAcIBwgHCAcIBwgIBwcICAgHBwgHCAcIBwgHCAcIBwgHCAcIBwcHBwcHBwcHBwcHBwcHBwcHBwcIBwgHBwgIBwcICAcHCAgHBwgIBwcICAcHCAgHBwgIBwcICAcHCAgHBwgIBwcICAcHCAgIBwgIBwgIBwgIBwgIBwgIBwgIBwgIBwgIBwgIBwgIBwgIBwgIBwgIBwgIBwgIBwgIBwgIBwcIBwcIBwcIBwcIBwcIBwcIBwcIBwgHBwcIBwcHBwcIBwcHBwcIBwcHBwcIBwcHBwcIBwcHBwcIBwcHBwcIBwcHBwcI",
          "dtype": "i1"
         },
         "yaxis": "y"
        }
       ],
       "layout": {
        "legend": {
         "title": {
          "text": "Affects_Academic_Performance"
         },
         "tracegroupgap": 0
        },
        "template": {
         "data": {
          "bar": [
           {
            "error_x": {
             "color": "#2a3f5f"
            },
            "error_y": {
             "color": "#2a3f5f"
            },
            "marker": {
             "line": {
              "color": "#E5ECF6",
              "width": 0.5
             },
             "pattern": {
              "fillmode": "overlay",
              "size": 10,
              "solidity": 0.2
             }
            },
            "type": "bar"
           }
          ],
          "barpolar": [
           {
            "marker": {
             "line": {
              "color": "#E5ECF6",
              "width": 0.5
             },
             "pattern": {
              "fillmode": "overlay",
              "size": 10,
              "solidity": 0.2
             }
            },
            "type": "barpolar"
           }
          ],
          "carpet": [
           {
            "aaxis": {
             "endlinecolor": "#2a3f5f",
             "gridcolor": "white",
             "linecolor": "white",
             "minorgridcolor": "white",
             "startlinecolor": "#2a3f5f"
            },
            "baxis": {
             "endlinecolor": "#2a3f5f",
             "gridcolor": "white",
             "linecolor": "white",
             "minorgridcolor": "white",
             "startlinecolor": "#2a3f5f"
            },
            "type": "carpet"
           }
          ],
          "choropleth": [
           {
            "colorbar": {
             "outlinewidth": 0,
             "ticks": ""
            },
            "type": "choropleth"
           }
          ],
          "contour": [
           {
            "colorbar": {
             "outlinewidth": 0,
             "ticks": ""
            },
            "colorscale": [
             [
              0,
              "#0d0887"
             ],
             [
              0.1111111111111111,
              "#46039f"
             ],
             [
              0.2222222222222222,
              "#7201a8"
             ],
             [
              0.3333333333333333,
              "#9c179e"
             ],
             [
              0.4444444444444444,
              "#bd3786"
             ],
             [
              0.5555555555555556,
              "#d8576b"
             ],
             [
              0.6666666666666666,
              "#ed7953"
             ],
             [
              0.7777777777777778,
              "#fb9f3a"
             ],
             [
              0.8888888888888888,
              "#fdca26"
             ],
             [
              1,
              "#f0f921"
             ]
            ],
            "type": "contour"
           }
          ],
          "contourcarpet": [
           {
            "colorbar": {
             "outlinewidth": 0,
             "ticks": ""
            },
            "type": "contourcarpet"
           }
          ],
          "heatmap": [
           {
            "colorbar": {
             "outlinewidth": 0,
             "ticks": ""
            },
            "colorscale": [
             [
              0,
              "#0d0887"
             ],
             [
              0.1111111111111111,
              "#46039f"
             ],
             [
              0.2222222222222222,
              "#7201a8"
             ],
             [
              0.3333333333333333,
              "#9c179e"
             ],
             [
              0.4444444444444444,
              "#bd3786"
             ],
             [
              0.5555555555555556,
              "#d8576b"
             ],
             [
              0.6666666666666666,
              "#ed7953"
             ],
             [
              0.7777777777777778,
              "#fb9f3a"
             ],
             [
              0.8888888888888888,
              "#fdca26"
             ],
             [
              1,
              "#f0f921"
             ]
            ],
            "type": "heatmap"
           }
          ],
          "histogram": [
           {
            "marker": {
             "pattern": {
              "fillmode": "overlay",
              "size": 10,
              "solidity": 0.2
             }
            },
            "type": "histogram"
           }
          ],
          "histogram2d": [
           {
            "colorbar": {
             "outlinewidth": 0,
             "ticks": ""
            },
            "colorscale": [
             [
              0,
              "#0d0887"
             ],
             [
              0.1111111111111111,
              "#46039f"
             ],
             [
              0.2222222222222222,
              "#7201a8"
             ],
             [
              0.3333333333333333,
              "#9c179e"
             ],
             [
              0.4444444444444444,
              "#bd3786"
             ],
             [
              0.5555555555555556,
              "#d8576b"
             ],
             [
              0.6666666666666666,
              "#ed7953"
             ],
             [
              0.7777777777777778,
              "#fb9f3a"
             ],
             [
              0.8888888888888888,
              "#fdca26"
             ],
             [
              1,
              "#f0f921"
             ]
            ],
            "type": "histogram2d"
           }
          ],
          "histogram2dcontour": [
           {
            "colorbar": {
             "outlinewidth": 0,
             "ticks": ""
            },
            "colorscale": [
             [
              0,
              "#0d0887"
             ],
             [
              0.1111111111111111,
              "#46039f"
             ],
             [
              0.2222222222222222,
              "#7201a8"
             ],
             [
              0.3333333333333333,
              "#9c179e"
             ],
             [
              0.4444444444444444,
              "#bd3786"
             ],
             [
              0.5555555555555556,
              "#d8576b"
             ],
             [
              0.6666666666666666,
              "#ed7953"
             ],
             [
              0.7777777777777778,
              "#fb9f3a"
             ],
             [
              0.8888888888888888,
              "#fdca26"
             ],
             [
              1,
              "#f0f921"
             ]
            ],
            "type": "histogram2dcontour"
           }
          ],
          "mesh3d": [
           {
            "colorbar": {
             "outlinewidth": 0,
             "ticks": ""
            },
            "type": "mesh3d"
           }
          ],
          "parcoords": [
           {
            "line": {
             "colorbar": {
              "outlinewidth": 0,
              "ticks": ""
             }
            },
            "type": "parcoords"
           }
          ],
          "pie": [
           {
            "automargin": true,
            "type": "pie"
           }
          ],
          "scatter": [
           {
            "fillpattern": {
             "fillmode": "overlay",
             "size": 10,
             "solidity": 0.2
            },
            "type": "scatter"
           }
          ],
          "scatter3d": [
           {
            "line": {
             "colorbar": {
              "outlinewidth": 0,
              "ticks": ""
             }
            },
            "marker": {
             "colorbar": {
              "outlinewidth": 0,
              "ticks": ""
             }
            },
            "type": "scatter3d"
           }
          ],
          "scattercarpet": [
           {
            "marker": {
             "colorbar": {
              "outlinewidth": 0,
              "ticks": ""
             }
            },
            "type": "scattercarpet"
           }
          ],
          "scattergeo": [
           {
            "marker": {
             "colorbar": {
              "outlinewidth": 0,
              "ticks": ""
             }
            },
            "type": "scattergeo"
           }
          ],
          "scattergl": [
           {
            "marker": {
             "colorbar": {
              "outlinewidth": 0,
              "ticks": ""
             }
            },
            "type": "scattergl"
           }
          ],
          "scattermap": [
           {
            "marker": {
             "colorbar": {
              "outlinewidth": 0,
              "ticks": ""
             }
            },
            "type": "scattermap"
           }
          ],
          "scattermapbox": [
           {
            "marker": {
             "colorbar": {
              "outlinewidth": 0,
              "ticks": ""
             }
            },
            "type": "scattermapbox"
           }
          ],
          "scatterpolar": [
           {
            "marker": {
             "colorbar": {
              "outlinewidth": 0,
              "ticks": ""
             }
            },
            "type": "scatterpolar"
           }
          ],
          "scatterpolargl": [
           {
            "marker": {
             "colorbar": {
              "outlinewidth": 0,
              "ticks": ""
             }
            },
            "type": "scatterpolargl"
           }
          ],
          "scatterternary": [
           {
            "marker": {
             "colorbar": {
              "outlinewidth": 0,
              "ticks": ""
             }
            },
            "type": "scatterternary"
           }
          ],
          "surface": [
           {
            "colorbar": {
             "outlinewidth": 0,
             "ticks": ""
            },
            "colorscale": [
             [
              0,
              "#0d0887"
             ],
             [
              0.1111111111111111,
              "#46039f"
             ],
             [
              0.2222222222222222,
              "#7201a8"
             ],
             [
              0.3333333333333333,
              "#9c179e"
             ],
             [
              0.4444444444444444,
              "#bd3786"
             ],
             [
              0.5555555555555556,
              "#d8576b"
             ],
             [
              0.6666666666666666,
              "#ed7953"
             ],
             [
              0.7777777777777778,
              "#fb9f3a"
             ],
             [
              0.8888888888888888,
              "#fdca26"
             ],
             [
              1,
              "#f0f921"
             ]
            ],
            "type": "surface"
           }
          ],
          "table": [
           {
            "cells": {
             "fill": {
              "color": "#EBF0F8"
             },
             "line": {
              "color": "white"
             }
            },
            "header": {
             "fill": {
              "color": "#C8D4E3"
             },
             "line": {
              "color": "white"
             }
            },
            "type": "table"
           }
          ]
         },
         "layout": {
          "annotationdefaults": {
           "arrowcolor": "#2a3f5f",
           "arrowhead": 0,
           "arrowwidth": 1
          },
          "autotypenumbers": "strict",
          "coloraxis": {
           "colorbar": {
            "outlinewidth": 0,
            "ticks": ""
           }
          },
          "colorscale": {
           "diverging": [
            [
             0,
             "#8e0152"
            ],
            [
             0.1,
             "#c51b7d"
            ],
            [
             0.2,
             "#de77ae"
            ],
            [
             0.3,
             "#f1b6da"
            ],
            [
             0.4,
             "#fde0ef"
            ],
            [
             0.5,
             "#f7f7f7"
            ],
            [
             0.6,
             "#e6f5d0"
            ],
            [
             0.7,
             "#b8e186"
            ],
            [
             0.8,
             "#7fbc41"
            ],
            [
             0.9,
             "#4d9221"
            ],
            [
             1,
             "#276419"
            ]
           ],
           "sequential": [
            [
             0,
             "#0d0887"
            ],
            [
             0.1111111111111111,
             "#46039f"
            ],
            [
             0.2222222222222222,
             "#7201a8"
            ],
            [
             0.3333333333333333,
             "#9c179e"
            ],
            [
             0.4444444444444444,
             "#bd3786"
            ],
            [
             0.5555555555555556,
             "#d8576b"
            ],
            [
             0.6666666666666666,
             "#ed7953"
            ],
            [
             0.7777777777777778,
             "#fb9f3a"
            ],
            [
             0.8888888888888888,
             "#fdca26"
            ],
            [
             1,
             "#f0f921"
            ]
           ],
           "sequentialminus": [
            [
             0,
             "#0d0887"
            ],
            [
             0.1111111111111111,
             "#46039f"
            ],
            [
             0.2222222222222222,
             "#7201a8"
            ],
            [
             0.3333333333333333,
             "#9c179e"
            ],
            [
             0.4444444444444444,
             "#bd3786"
            ],
            [
             0.5555555555555556,
             "#d8576b"
            ],
            [
             0.6666666666666666,
             "#ed7953"
            ],
            [
             0.7777777777777778,
             "#fb9f3a"
            ],
            [
             0.8888888888888888,
             "#fdca26"
            ],
            [
             1,
             "#f0f921"
            ]
           ]
          },
          "colorway": [
           "#636efa",
           "#EF553B",
           "#00cc96",
           "#ab63fa",
           "#FFA15A",
           "#19d3f3",
           "#FF6692",
           "#B6E880",
           "#FF97FF",
           "#FECB52"
          ],
          "font": {
           "color": "#2a3f5f"
          },
          "geo": {
           "bgcolor": "white",
           "lakecolor": "white",
           "landcolor": "#E5ECF6",
           "showlakes": true,
           "showland": true,
           "subunitcolor": "white"
          },
          "hoverlabel": {
           "align": "left"
          },
          "hovermode": "closest",
          "mapbox": {
           "style": "light"
          },
          "paper_bgcolor": "white",
          "plot_bgcolor": "#E5ECF6",
          "polar": {
           "angularaxis": {
            "gridcolor": "white",
            "linecolor": "white",
            "ticks": ""
           },
           "bgcolor": "#E5ECF6",
           "radialaxis": {
            "gridcolor": "white",
            "linecolor": "white",
            "ticks": ""
           }
          },
          "scene": {
           "xaxis": {
            "backgroundcolor": "#E5ECF6",
            "gridcolor": "white",
            "gridwidth": 2,
            "linecolor": "white",
            "showbackground": true,
            "ticks": "",
            "zerolinecolor": "white"
           },
           "yaxis": {
            "backgroundcolor": "#E5ECF6",
            "gridcolor": "white",
            "gridwidth": 2,
            "linecolor": "white",
            "showbackground": true,
            "ticks": "",
            "zerolinecolor": "white"
           },
           "zaxis": {
            "backgroundcolor": "#E5ECF6",
            "gridcolor": "white",
            "gridwidth": 2,
            "linecolor": "white",
            "showbackground": true,
            "ticks": "",
            "zerolinecolor": "white"
           }
          },
          "shapedefaults": {
           "line": {
            "color": "#2a3f5f"
           }
          },
          "ternary": {
           "aaxis": {
            "gridcolor": "white",
            "linecolor": "white",
            "ticks": ""
           },
           "baxis": {
            "gridcolor": "white",
            "linecolor": "white",
            "ticks": ""
           },
           "bgcolor": "#E5ECF6",
           "caxis": {
            "gridcolor": "white",
            "linecolor": "white",
            "ticks": ""
           }
          },
          "title": {
           "x": 0.05
          },
          "xaxis": {
           "automargin": true,
           "gridcolor": "white",
           "linecolor": "white",
           "ticks": "",
           "title": {
            "standoff": 15
           },
           "zerolinecolor": "white",
           "zerolinewidth": 2
          },
          "yaxis": {
           "automargin": true,
           "gridcolor": "white",
           "linecolor": "white",
           "ticks": "",
           "title": {
            "standoff": 15
           },
           "zerolinecolor": "white",
           "zerolinewidth": 2
          }
         }
        },
        "title": {
         "text": " Addicted Score vs Mental Health Score"
        },
        "xaxis": {
         "anchor": "y",
         "domain": [
          0,
          1
         ],
         "title": {
          "text": "Addicted_Score"
         }
        },
        "yaxis": {
         "anchor": "x",
         "domain": [
          0,
          1
         ],
         "title": {
          "text": "Mental_Health_Score"
         }
        }
       }
      }
     },
     "metadata": {},
     "output_type": "display_data"
    }
   ],
   "source": [
    "fig5 = px.scatter(df, x='Addicted_Score', y='Mental_Health_Score', color='Affects_Academic_Performance', title=' Addicted Score vs Mental Health Score')\n",
    "fig5.show()"
   ]
  },
  {
   "cell_type": "markdown",
   "id": "c6207e34",
   "metadata": {},
   "source": [
    "# 📦 Addicted Score by Perceived Academic Impact  \n",
    "Uses a box plot to compare addiction levels between students who feel social media affects their academics and those who don’t."
   ]
  },
  {
   "cell_type": "code",
   "execution_count": 11,
   "id": "0a2ebb8a",
   "metadata": {},
   "outputs": [
    {
     "data": {
      "application/vnd.plotly.v1+json": {
       "config": {
        "plotlyServerURL": "https://plot.ly"
       },
       "data": [
        {
         "hovertemplate": "Gender=%{x}<br>Age=%{y}<extra></extra>",
         "legendgroup": "",
         "marker": {
          "color": "#636efa",
          "pattern": {
           "shape": ""
          }
         },
         "name": "",
         "orientation": "v",
         "showlegend": false,
         "textposition": "auto",
         "type": "bar",
         "x": [
          "Female",
          "Male"
         ],
         "xaxis": "x",
         "y": {
          "bdata": "UDE8zQX4M0C66KKLLlo1QA==",
          "dtype": "f8"
         },
         "yaxis": "y"
        }
       ],
       "layout": {
        "barmode": "relative",
        "legend": {
         "tracegroupgap": 0
        },
        "template": {
         "data": {
          "bar": [
           {
            "error_x": {
             "color": "#2a3f5f"
            },
            "error_y": {
             "color": "#2a3f5f"
            },
            "marker": {
             "line": {
              "color": "#E5ECF6",
              "width": 0.5
             },
             "pattern": {
              "fillmode": "overlay",
              "size": 10,
              "solidity": 0.2
             }
            },
            "type": "bar"
           }
          ],
          "barpolar": [
           {
            "marker": {
             "line": {
              "color": "#E5ECF6",
              "width": 0.5
             },
             "pattern": {
              "fillmode": "overlay",
              "size": 10,
              "solidity": 0.2
             }
            },
            "type": "barpolar"
           }
          ],
          "carpet": [
           {
            "aaxis": {
             "endlinecolor": "#2a3f5f",
             "gridcolor": "white",
             "linecolor": "white",
             "minorgridcolor": "white",
             "startlinecolor": "#2a3f5f"
            },
            "baxis": {
             "endlinecolor": "#2a3f5f",
             "gridcolor": "white",
             "linecolor": "white",
             "minorgridcolor": "white",
             "startlinecolor": "#2a3f5f"
            },
            "type": "carpet"
           }
          ],
          "choropleth": [
           {
            "colorbar": {
             "outlinewidth": 0,
             "ticks": ""
            },
            "type": "choropleth"
           }
          ],
          "contour": [
           {
            "colorbar": {
             "outlinewidth": 0,
             "ticks": ""
            },
            "colorscale": [
             [
              0,
              "#0d0887"
             ],
             [
              0.1111111111111111,
              "#46039f"
             ],
             [
              0.2222222222222222,
              "#7201a8"
             ],
             [
              0.3333333333333333,
              "#9c179e"
             ],
             [
              0.4444444444444444,
              "#bd3786"
             ],
             [
              0.5555555555555556,
              "#d8576b"
             ],
             [
              0.6666666666666666,
              "#ed7953"
             ],
             [
              0.7777777777777778,
              "#fb9f3a"
             ],
             [
              0.8888888888888888,
              "#fdca26"
             ],
             [
              1,
              "#f0f921"
             ]
            ],
            "type": "contour"
           }
          ],
          "contourcarpet": [
           {
            "colorbar": {
             "outlinewidth": 0,
             "ticks": ""
            },
            "type": "contourcarpet"
           }
          ],
          "heatmap": [
           {
            "colorbar": {
             "outlinewidth": 0,
             "ticks": ""
            },
            "colorscale": [
             [
              0,
              "#0d0887"
             ],
             [
              0.1111111111111111,
              "#46039f"
             ],
             [
              0.2222222222222222,
              "#7201a8"
             ],
             [
              0.3333333333333333,
              "#9c179e"
             ],
             [
              0.4444444444444444,
              "#bd3786"
             ],
             [
              0.5555555555555556,
              "#d8576b"
             ],
             [
              0.6666666666666666,
              "#ed7953"
             ],
             [
              0.7777777777777778,
              "#fb9f3a"
             ],
             [
              0.8888888888888888,
              "#fdca26"
             ],
             [
              1,
              "#f0f921"
             ]
            ],
            "type": "heatmap"
           }
          ],
          "histogram": [
           {
            "marker": {
             "pattern": {
              "fillmode": "overlay",
              "size": 10,
              "solidity": 0.2
             }
            },
            "type": "histogram"
           }
          ],
          "histogram2d": [
           {
            "colorbar": {
             "outlinewidth": 0,
             "ticks": ""
            },
            "colorscale": [
             [
              0,
              "#0d0887"
             ],
             [
              0.1111111111111111,
              "#46039f"
             ],
             [
              0.2222222222222222,
              "#7201a8"
             ],
             [
              0.3333333333333333,
              "#9c179e"
             ],
             [
              0.4444444444444444,
              "#bd3786"
             ],
             [
              0.5555555555555556,
              "#d8576b"
             ],
             [
              0.6666666666666666,
              "#ed7953"
             ],
             [
              0.7777777777777778,
              "#fb9f3a"
             ],
             [
              0.8888888888888888,
              "#fdca26"
             ],
             [
              1,
              "#f0f921"
             ]
            ],
            "type": "histogram2d"
           }
          ],
          "histogram2dcontour": [
           {
            "colorbar": {
             "outlinewidth": 0,
             "ticks": ""
            },
            "colorscale": [
             [
              0,
              "#0d0887"
             ],
             [
              0.1111111111111111,
              "#46039f"
             ],
             [
              0.2222222222222222,
              "#7201a8"
             ],
             [
              0.3333333333333333,
              "#9c179e"
             ],
             [
              0.4444444444444444,
              "#bd3786"
             ],
             [
              0.5555555555555556,
              "#d8576b"
             ],
             [
              0.6666666666666666,
              "#ed7953"
             ],
             [
              0.7777777777777778,
              "#fb9f3a"
             ],
             [
              0.8888888888888888,
              "#fdca26"
             ],
             [
              1,
              "#f0f921"
             ]
            ],
            "type": "histogram2dcontour"
           }
          ],
          "mesh3d": [
           {
            "colorbar": {
             "outlinewidth": 0,
             "ticks": ""
            },
            "type": "mesh3d"
           }
          ],
          "parcoords": [
           {
            "line": {
             "colorbar": {
              "outlinewidth": 0,
              "ticks": ""
             }
            },
            "type": "parcoords"
           }
          ],
          "pie": [
           {
            "automargin": true,
            "type": "pie"
           }
          ],
          "scatter": [
           {
            "fillpattern": {
             "fillmode": "overlay",
             "size": 10,
             "solidity": 0.2
            },
            "type": "scatter"
           }
          ],
          "scatter3d": [
           {
            "line": {
             "colorbar": {
              "outlinewidth": 0,
              "ticks": ""
             }
            },
            "marker": {
             "colorbar": {
              "outlinewidth": 0,
              "ticks": ""
             }
            },
            "type": "scatter3d"
           }
          ],
          "scattercarpet": [
           {
            "marker": {
             "colorbar": {
              "outlinewidth": 0,
              "ticks": ""
             }
            },
            "type": "scattercarpet"
           }
          ],
          "scattergeo": [
           {
            "marker": {
             "colorbar": {
              "outlinewidth": 0,
              "ticks": ""
             }
            },
            "type": "scattergeo"
           }
          ],
          "scattergl": [
           {
            "marker": {
             "colorbar": {
              "outlinewidth": 0,
              "ticks": ""
             }
            },
            "type": "scattergl"
           }
          ],
          "scattermap": [
           {
            "marker": {
             "colorbar": {
              "outlinewidth": 0,
              "ticks": ""
             }
            },
            "type": "scattermap"
           }
          ],
          "scattermapbox": [
           {
            "marker": {
             "colorbar": {
              "outlinewidth": 0,
              "ticks": ""
             }
            },
            "type": "scattermapbox"
           }
          ],
          "scatterpolar": [
           {
            "marker": {
             "colorbar": {
              "outlinewidth": 0,
              "ticks": ""
             }
            },
            "type": "scatterpolar"
           }
          ],
          "scatterpolargl": [
           {
            "marker": {
             "colorbar": {
              "outlinewidth": 0,
              "ticks": ""
             }
            },
            "type": "scatterpolargl"
           }
          ],
          "scatterternary": [
           {
            "marker": {
             "colorbar": {
              "outlinewidth": 0,
              "ticks": ""
             }
            },
            "type": "scatterternary"
           }
          ],
          "surface": [
           {
            "colorbar": {
             "outlinewidth": 0,
             "ticks": ""
            },
            "colorscale": [
             [
              0,
              "#0d0887"
             ],
             [
              0.1111111111111111,
              "#46039f"
             ],
             [
              0.2222222222222222,
              "#7201a8"
             ],
             [
              0.3333333333333333,
              "#9c179e"
             ],
             [
              0.4444444444444444,
              "#bd3786"
             ],
             [
              0.5555555555555556,
              "#d8576b"
             ],
             [
              0.6666666666666666,
              "#ed7953"
             ],
             [
              0.7777777777777778,
              "#fb9f3a"
             ],
             [
              0.8888888888888888,
              "#fdca26"
             ],
             [
              1,
              "#f0f921"
             ]
            ],
            "type": "surface"
           }
          ],
          "table": [
           {
            "cells": {
             "fill": {
              "color": "#EBF0F8"
             },
             "line": {
              "color": "white"
             }
            },
            "header": {
             "fill": {
              "color": "#C8D4E3"
             },
             "line": {
              "color": "white"
             }
            },
            "type": "table"
           }
          ]
         },
         "layout": {
          "annotationdefaults": {
           "arrowcolor": "#2a3f5f",
           "arrowhead": 0,
           "arrowwidth": 1
          },
          "autotypenumbers": "strict",
          "coloraxis": {
           "colorbar": {
            "outlinewidth": 0,
            "ticks": ""
           }
          },
          "colorscale": {
           "diverging": [
            [
             0,
             "#8e0152"
            ],
            [
             0.1,
             "#c51b7d"
            ],
            [
             0.2,
             "#de77ae"
            ],
            [
             0.3,
             "#f1b6da"
            ],
            [
             0.4,
             "#fde0ef"
            ],
            [
             0.5,
             "#f7f7f7"
            ],
            [
             0.6,
             "#e6f5d0"
            ],
            [
             0.7,
             "#b8e186"
            ],
            [
             0.8,
             "#7fbc41"
            ],
            [
             0.9,
             "#4d9221"
            ],
            [
             1,
             "#276419"
            ]
           ],
           "sequential": [
            [
             0,
             "#0d0887"
            ],
            [
             0.1111111111111111,
             "#46039f"
            ],
            [
             0.2222222222222222,
             "#7201a8"
            ],
            [
             0.3333333333333333,
             "#9c179e"
            ],
            [
             0.4444444444444444,
             "#bd3786"
            ],
            [
             0.5555555555555556,
             "#d8576b"
            ],
            [
             0.6666666666666666,
             "#ed7953"
            ],
            [
             0.7777777777777778,
             "#fb9f3a"
            ],
            [
             0.8888888888888888,
             "#fdca26"
            ],
            [
             1,
             "#f0f921"
            ]
           ],
           "sequentialminus": [
            [
             0,
             "#0d0887"
            ],
            [
             0.1111111111111111,
             "#46039f"
            ],
            [
             0.2222222222222222,
             "#7201a8"
            ],
            [
             0.3333333333333333,
             "#9c179e"
            ],
            [
             0.4444444444444444,
             "#bd3786"
            ],
            [
             0.5555555555555556,
             "#d8576b"
            ],
            [
             0.6666666666666666,
             "#ed7953"
            ],
            [
             0.7777777777777778,
             "#fb9f3a"
            ],
            [
             0.8888888888888888,
             "#fdca26"
            ],
            [
             1,
             "#f0f921"
            ]
           ]
          },
          "colorway": [
           "#636efa",
           "#EF553B",
           "#00cc96",
           "#ab63fa",
           "#FFA15A",
           "#19d3f3",
           "#FF6692",
           "#B6E880",
           "#FF97FF",
           "#FECB52"
          ],
          "font": {
           "color": "#2a3f5f"
          },
          "geo": {
           "bgcolor": "white",
           "lakecolor": "white",
           "landcolor": "#E5ECF6",
           "showlakes": true,
           "showland": true,
           "subunitcolor": "white"
          },
          "hoverlabel": {
           "align": "left"
          },
          "hovermode": "closest",
          "mapbox": {
           "style": "light"
          },
          "paper_bgcolor": "white",
          "plot_bgcolor": "#E5ECF6",
          "polar": {
           "angularaxis": {
            "gridcolor": "white",
            "linecolor": "white",
            "ticks": ""
           },
           "bgcolor": "#E5ECF6",
           "radialaxis": {
            "gridcolor": "white",
            "linecolor": "white",
            "ticks": ""
           }
          },
          "scene": {
           "xaxis": {
            "backgroundcolor": "#E5ECF6",
            "gridcolor": "white",
            "gridwidth": 2,
            "linecolor": "white",
            "showbackground": true,
            "ticks": "",
            "zerolinecolor": "white"
           },
           "yaxis": {
            "backgroundcolor": "#E5ECF6",
            "gridcolor": "white",
            "gridwidth": 2,
            "linecolor": "white",
            "showbackground": true,
            "ticks": "",
            "zerolinecolor": "white"
           },
           "zaxis": {
            "backgroundcolor": "#E5ECF6",
            "gridcolor": "white",
            "gridwidth": 2,
            "linecolor": "white",
            "showbackground": true,
            "ticks": "",
            "zerolinecolor": "white"
           }
          },
          "shapedefaults": {
           "line": {
            "color": "#2a3f5f"
           }
          },
          "ternary": {
           "aaxis": {
            "gridcolor": "white",
            "linecolor": "white",
            "ticks": ""
           },
           "baxis": {
            "gridcolor": "white",
            "linecolor": "white",
            "ticks": ""
           },
           "bgcolor": "#E5ECF6",
           "caxis": {
            "gridcolor": "white",
            "linecolor": "white",
            "ticks": ""
           }
          },
          "title": {
           "x": 0.05
          },
          "xaxis": {
           "automargin": true,
           "gridcolor": "white",
           "linecolor": "white",
           "ticks": "",
           "title": {
            "standoff": 15
           },
           "zerolinecolor": "white",
           "zerolinewidth": 2
          },
          "yaxis": {
           "automargin": true,
           "gridcolor": "white",
           "linecolor": "white",
           "ticks": "",
           "title": {
            "standoff": 15
           },
           "zerolinecolor": "white",
           "zerolinewidth": 2
          }
         }
        },
        "title": {
         "text": "Average Age by Gender"
        },
        "xaxis": {
         "anchor": "y",
         "domain": [
          0,
          1
         ],
         "title": {
          "text": "Gender"
         }
        },
        "yaxis": {
         "anchor": "x",
         "domain": [
          0,
          1
         ],
         "title": {
          "text": "Age"
         }
        }
       }
      }
     },
     "metadata": {},
     "output_type": "display_data"
    }
   ],
   "source": [
    "top_customers = df.groupby('Gender')['Age'].mean().reset_index()\n",
    "fig6 = px.bar(top_customers, x='Gender', y='Age', title='Average Age by Gender')\n",
    "fig6.show()"
   ]
  },
  {
   "cell_type": "code",
   "execution_count": 12,
   "id": "29a7f392",
   "metadata": {},
   "outputs": [
    {
     "data": {
      "text/plain": [
       "np.float64(0.0)"
      ]
     },
     "execution_count": 12,
     "metadata": {},
     "output_type": "execute_result"
    }
   ],
   "source": [
    "df[df['Academic_Level'] == 'UG']['Avg_Daily_Usage_Hours'].sum()"
   ]
  }
 ],
 "metadata": {
  "kernelspec": {
   "display_name": "Python 3",
   "language": "python",
   "name": "python3"
  },
  "language_info": {
   "codemirror_mode": {
    "name": "ipython",
    "version": 3
   },
   "file_extension": ".py",
   "mimetype": "text/x-python",
   "name": "python",
   "nbconvert_exporter": "python",
   "pygments_lexer": "ipython3",
   "version": "3.12.10"
  }
 },
 "nbformat": 4,
 "nbformat_minor": 5
}
